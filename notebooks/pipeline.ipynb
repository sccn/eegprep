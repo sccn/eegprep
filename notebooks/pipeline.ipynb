{
 "cells": [
  {
   "cell_type": "code",
   "execution_count": null,
   "metadata": {},
   "outputs": [
    {
     "name": "stdout",
     "output_type": "stream",
     "text": [
      "(10, 100)\n"
     ]
    },
    {
     "ename": "IndexError",
     "evalue": "list index out of range",
     "output_type": "error",
     "traceback": [
      "\u001b[0;31m---------------------------------------------------------------------------\u001b[0m",
      "\u001b[0;31mIndexError\u001b[0m                                Traceback (most recent call last)",
      "Cell \u001b[0;32mIn[3], line 8\u001b[0m\n\u001b[1;32m      6\u001b[0m \u001b[38;5;28;01mif\u001b[39;00m \u001b[38;5;28mlen\u001b[39m(sys\u001b[38;5;241m.\u001b[39margv) \u001b[38;5;241m>\u001b[39m \u001b[38;5;241m1\u001b[39m:\n\u001b[1;32m      7\u001b[0m     eeglab_file_path_in  \u001b[38;5;241m=\u001b[39m sys\u001b[38;5;241m.\u001b[39margv[\u001b[38;5;241m1\u001b[39m]\n\u001b[0;32m----> 8\u001b[0m     eeglab_file_path_out \u001b[38;5;241m=\u001b[39m sys\u001b[38;5;241m.\u001b[39margv[\u001b[38;5;241m2\u001b[39m]\n\u001b[1;32m      9\u001b[0m \u001b[38;5;28;01melse\u001b[39;00m:\n\u001b[1;32m     10\u001b[0m     eeglab_file_path \u001b[38;5;241m=\u001b[39m \u001b[38;5;124m'\u001b[39m\u001b[38;5;124m/System/Volumes/Data/data/matlab/eeglab/sample_data/eeglab_data_epochs_ica.set\u001b[39m\u001b[38;5;124m'\u001b[39m\n",
      "\u001b[0;31mIndexError\u001b[0m: list index out of range"
     ]
    }
   ],
   "source": [
    "from iclabel import iclabel\n",
    "from pop_loadset import pop_loadset\n",
    "from pop_saveset import pop_saveset\n",
    "import sys\n",
    "\n",
    "if len(sys.argv) > 1:\n",
    "    eeglab_file_path_in  = sys.argv[1]\n",
    "    eeglab_file_path_out = sys.argv[2]\n",
    "else:\n",
    "    eeglab_file_path = '/System/Volumes/Data/data/matlab/eeglab/sample_data/eeglab_data_epochs_ica.set'\n",
    "    eeglab_file_path = '~/temp/eeglab_data_out.set'\n",
    "\n",
    "EEG = pop_loadset(eeglab_file_path_in)\n",
    "\n",
    "# Print the loaded data\n",
    "print('Data shape:', EEG['data'].shape)\n",
    "EEG = iclabel(EEG, 'default')\n",
    "\n",
    "# save dataset\n",
    "pop_saveset(EEG, eeglab_file_path_out)"
   ]
  }
 ],
 "metadata": {
  "kernelspec": {
   "display_name": "p311env",
   "language": "python",
   "name": "python3"
  },
  "language_info": {
   "codemirror_mode": {
    "name": "ipython",
    "version": 3
   },
   "file_extension": ".py",
   "mimetype": "text/x-python",
   "name": "python",
   "nbconvert_exporter": "python",
   "pygments_lexer": "ipython3",
   "version": "3.11.0"
  }
 },
 "nbformat": 4,
 "nbformat_minor": 2
}
