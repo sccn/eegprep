{
 "cells": [
  {
   "cell_type": "code",
   "execution_count": 137,
   "metadata": {},
   "outputs": [],
   "source": [
    "import mne\n",
    "from mne.preprocessing import ICA\n",
    "from mne_icalabel import label_components\n",
    "import importlib\n",
    "import eeg_mne2eeglab_epochs\n",
    "import iclabel\n",
    "import pop_loadset\n",
    "importlib.reload(eeg_mne2eeglab_epochs)  # Step 3: Reload the library to reflect the changes\n",
    "importlib.reload(iclabel)  # Step 3: Reload the library to reflect the changes\n",
    "importlib.reload(pop_loadset)  # Step 3: Reload the library to reflect the changes\n",
    "from eeg_mne2eeglab_epochs import eeg_mne2eeglab_epochs\n",
    "from iclabel import iclabel\n",
    "from pop_loadset import pop_loadset\n",
    "\n",
    "eeglab_data_path = '/System/Volumes/Data/data/matlab/eeglab/sample_data/eeglab_data_epochs_ica.set'\n",
    "\n",
    "if 0:\n",
    "    raw = mne.io.read_epochs_eeglab(eeglab_data_path)\n",
    "    raw.filter(1., 40., fir_design='firwin')\n",
    "\n",
    "    # Select the EEG channels\n",
    "    picks = mne.pick_types(raw.info, meg=False, eeg=True, eog=False, exclude='bads')\n",
    "\n",
    "    # Fit ICA\n",
    "    ica = ICA(n_components=30, random_state=97)\n",
    "    ica.fit(raw, picks=picks)\n",
    "\n",
    "    # Label components using ICALabel\n",
    "    labels2 = label_components(raw, ica, method='iclabel')\n",
    "\n",
    "    # Print the labels\n",
    "    for idx, label in enumerate(labels['labels']):\n",
    "        print(f\"Component {idx}: {label}\")\n",
    "    EEG = eeg_mne2eeglab_epochs(raw, ica)\n",
    "    \n",
    "    # Plot the ICs to visually inspect them\n",
    "    # ica.plot_components()\n",
    "else:\n",
    "    eeglab_data_path = '/System/Volumes/Data/data/matlab/eeglab/sample_data/eeglab_data_epochs_ica.set'\n",
    "    EEG = pop_loadset(eeglab_data_path)\n",
    "\n"
   ]
  },
  {
   "cell_type": "code",
   "execution_count": 138,
   "metadata": {},
   "outputs": [
    {
     "name": "stdout",
     "output_type": "stream",
     "text": [
      "Checkset done\n",
      "Field 'run' is missing from the EEG dictionnary, adding it.\n",
      "Field 'roi' is missing from the EEG dictionnary, adding it.\n",
      "again...\n"
     ]
    }
   ],
   "source": [
    "import numpy as np\n",
    "import eeg_checkset\n",
    "importlib.reload(eeg_checkset)  # Step 3: Reload the library to reflect the changes\n",
    "from eeg_checkset import eeg_checkset\n",
    "EEG2 = eeg_checkset(EEG)\n",
    "print('again...')\n",
    "EEG3 = eeg_checkset(EEG2)\n"
   ]
  },
  {
   "cell_type": "code",
   "execution_count": 76,
   "metadata": {},
   "outputs": [
    {
     "data": {
      "text/plain": [
       "(30, 30)"
      ]
     },
     "execution_count": 76,
     "metadata": {},
     "output_type": "execute_result"
    }
   ],
   "source": [
    "EEG['icawinv'].shape"
   ]
  },
  {
   "cell_type": "code",
   "execution_count": 94,
   "metadata": {},
   "outputs": [
    {
     "ename": "TypeError",
     "evalue": "'float' object cannot be interpreted as an integer",
     "output_type": "error",
     "traceback": [
      "\u001b[0;31m---------------------------------------------------------------------------\u001b[0m",
      "\u001b[0;31mTypeError\u001b[0m                                 Traceback (most recent call last)",
      "Cell \u001b[0;32mIn[94], line 5\u001b[0m\n\u001b[1;32m      2\u001b[0m \u001b[38;5;28;01mimport\u001b[39;00m \u001b[38;5;21;01mnumpy\u001b[39;00m \u001b[38;5;28;01mas\u001b[39;00m \u001b[38;5;21;01mnp\u001b[39;00m\n\u001b[1;32m      3\u001b[0m \u001b[38;5;28;01mfrom\u001b[39;00m \u001b[38;5;21;01miclabel\u001b[39;00m \u001b[38;5;28;01mimport\u001b[39;00m iclabel\n\u001b[0;32m----> 5\u001b[0m EEG \u001b[38;5;241m=\u001b[39m iclabel(EEG)\n\u001b[1;32m      6\u001b[0m labels2 \u001b[38;5;241m=\u001b[39m EEG[\u001b[38;5;124m'\u001b[39m\u001b[38;5;124metc\u001b[39m\u001b[38;5;124m'\u001b[39m][\u001b[38;5;124m'\u001b[39m\u001b[38;5;124mic_classification\u001b[39m\u001b[38;5;124m'\u001b[39m][\u001b[38;5;124m'\u001b[39m\u001b[38;5;124mICLabel\u001b[39m\u001b[38;5;124m'\u001b[39m]\n\u001b[1;32m      7\u001b[0m np\u001b[38;5;241m.\u001b[39mround(labels2[\u001b[38;5;124m'\u001b[39m\u001b[38;5;124mclassifications\u001b[39m\u001b[38;5;124m'\u001b[39m]\u001b[38;5;241m*\u001b[39m\u001b[38;5;241m100\u001b[39m)\n",
      "File \u001b[0;32m~/Python/iclabel/iclabel.py:12\u001b[0m, in \u001b[0;36miclabel\u001b[0;34m(EEG, algorithm)\u001b[0m\n\u001b[1;32m      9\u001b[0m     \u001b[38;5;28;01mraise\u001b[39;00m \u001b[38;5;167;01mValueError\u001b[39;00m(\u001b[38;5;124m'\u001b[39m\u001b[38;5;124mOnly the default algorithm is supported\u001b[39m\u001b[38;5;124m'\u001b[39m)\n\u001b[1;32m     11\u001b[0m \u001b[38;5;66;03m#ICLABEL Extract ICLabel features from an EEG dataset.\u001b[39;00m\n\u001b[0;32m---> 12\u001b[0m features \u001b[38;5;241m=\u001b[39m ICL_feature_extractor(EEG, \u001b[38;5;28;01mTrue\u001b[39;00m)\n\u001b[1;32m     14\u001b[0m \u001b[38;5;66;03m# Equivalent of MATLAB code reshaping\u001b[39;00m\n\u001b[1;32m     15\u001b[0m features[\u001b[38;5;241m0\u001b[39m] \u001b[38;5;241m=\u001b[39m np\u001b[38;5;241m.\u001b[39msingle(np\u001b[38;5;241m.\u001b[39mconcatenate([features[\u001b[38;5;241m0\u001b[39m],\u001b[38;5;241m-\u001b[39mfeatures[\u001b[38;5;241m0\u001b[39m],features[\u001b[38;5;241m0\u001b[39m][:, ::\u001b[38;5;241m-\u001b[39m\u001b[38;5;241m1\u001b[39m, :, :],\u001b[38;5;241m-\u001b[39mfeatures[\u001b[38;5;241m0\u001b[39m][:, ::\u001b[38;5;241m-\u001b[39m\u001b[38;5;241m1\u001b[39m, :, :]], axis\u001b[38;5;241m=\u001b[39m\u001b[38;5;241m3\u001b[39m))\n",
      "File \u001b[0;32m~/Python/iclabel/ICL_feature_extractor.py:45\u001b[0m, in \u001b[0;36mICL_feature_extractor\u001b[0;34m(EEG, flag_autocorr)\u001b[0m\n\u001b[1;32m     42\u001b[0m topo \u001b[38;5;241m=\u001b[39m topo\u001b[38;5;241m.\u001b[39mastype(np\u001b[38;5;241m.\u001b[39mfloat32)\n\u001b[1;32m     44\u001b[0m \u001b[38;5;66;03m# Calculate PSD\u001b[39;00m\n\u001b[0;32m---> 45\u001b[0m psd \u001b[38;5;241m=\u001b[39m eeg_rpsd(EEG, \u001b[38;5;241m100\u001b[39m)\n\u001b[1;32m     47\u001b[0m \u001b[38;5;66;03m# Extrapolate or prune as needed\u001b[39;00m\n\u001b[1;32m     48\u001b[0m nfreq \u001b[38;5;241m=\u001b[39m psd\u001b[38;5;241m.\u001b[39mshape[\u001b[38;5;241m1\u001b[39m]\n",
      "File \u001b[0;32m~/Python/iclabel/eeg_rpsd.py:38\u001b[0m, in \u001b[0;36meeg_rpsd\u001b[0;34m(EEG, nfreqs, pct_data)\u001b[0m\n\u001b[1;32m     35\u001b[0m subset \u001b[38;5;241m=\u001b[39m np\u001b[38;5;241m.\u001b[39mrandom\u001b[38;5;241m.\u001b[39mpermutation(n_seg)[:\u001b[38;5;28mint\u001b[39m(n_seg \u001b[38;5;241m*\u001b[39m pct_data \u001b[38;5;241m/\u001b[39m \u001b[38;5;241m100\u001b[39m)]\n\u001b[1;32m     37\u001b[0m \u001b[38;5;66;03m# calculate windowed spectrums\u001b[39;00m\n\u001b[0;32m---> 38\u001b[0m psdmed \u001b[38;5;241m=\u001b[39m np\u001b[38;5;241m.\u001b[39mzeros((ncomp, nfreqs))\n\u001b[1;32m     39\u001b[0m \u001b[38;5;28;01mfor\u001b[39;00m it \u001b[38;5;129;01min\u001b[39;00m \u001b[38;5;28mrange\u001b[39m(ncomp):\n\u001b[1;32m     40\u001b[0m     temp \u001b[38;5;241m=\u001b[39m np\u001b[38;5;241m.\u001b[39mreshape(EEG[\u001b[38;5;124m'\u001b[39m\u001b[38;5;124micaact\u001b[39m\u001b[38;5;124m'\u001b[39m][it, index, :], (\u001b[38;5;241m1\u001b[39m, index\u001b[38;5;241m.\u001b[39mshape[\u001b[38;5;241m0\u001b[39m], index\u001b[38;5;241m.\u001b[39mshape[\u001b[38;5;241m1\u001b[39m] \u001b[38;5;241m*\u001b[39m EEG[\u001b[38;5;124m'\u001b[39m\u001b[38;5;124mtrials\u001b[39m\u001b[38;5;124m'\u001b[39m]))\n",
      "\u001b[0;31mTypeError\u001b[0m: 'float' object cannot be interpreted as an integer"
     ]
    }
   ],
   "source": [
    "from pop_loadset import pop_loadset\n",
    "import numpy as np\n",
    "from iclabel import iclabel\n",
    "\n",
    "EEG = iclabel(EEG)\n",
    "labels2 = EEG['etc']['ic_classification']['ICLabel']\n",
    "np.round(labels2['classifications']*100)"
   ]
  }
 ],
 "metadata": {
  "kernelspec": {
   "display_name": "p311env",
   "language": "python",
   "name": "python3"
  },
  "language_info": {
   "codemirror_mode": {
    "name": "ipython",
    "version": 3
   },
   "file_extension": ".py",
   "mimetype": "text/x-python",
   "name": "python",
   "nbconvert_exporter": "python",
   "pygments_lexer": "ipython3",
   "version": "3.11.0"
  }
 },
 "nbformat": 4,
 "nbformat_minor": 2
}
