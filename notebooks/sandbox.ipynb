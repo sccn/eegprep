{
 "cells": [
  {
   "cell_type": "code",
   "execution_count": 7,
   "metadata": {},
   "outputs": [
    {
     "name": "stdout",
     "output_type": "stream",
     "text": [
      "Used Annotations descriptions: ['boundary', 'break cnt', 'instructed_toCloseEyes', 'instructed_toOpenEyes', 'resting_start']\n",
      "\n",
      "Events found:\n",
      "(array([[     0,      0,      2],\n",
      "       [   957,      0,      5],\n",
      "       [ 29108,      0,      4],\n",
      "       [ 39108,      0,      3],\n",
      "       [ 59103,      0,      4],\n",
      "       [ 69103,      0,      3],\n",
      "       [ 89104,      0,      4],\n",
      "       [ 99105,      0,      3],\n",
      "       [119105,      0,      4],\n",
      "       [129106,      0,      3],\n",
      "       [149106,      0,      4],\n",
      "       [159107,      0,      3],\n",
      "       [179107,      0,      4],\n",
      "       [181388,      0,      1]]), {'boundary': 1, 'break cnt': 2, 'instructed_toCloseEyes': 3, 'instructed_toOpenEyes': 4, 'resting_start': 5})\n",
      "\n",
      "Annotations:\n",
      "<Annotations | 14 segments: boundary (1), break cnt (1), ...>\n",
      "\n",
      "Annotation details:\n",
      "Onset: 0.00s, Duration: 0.00s, Description: break cnt\n",
      "Onset: 1.91s, Duration: 0.00s, Description: resting_start\n",
      "Onset: 58.22s, Duration: 0.00s, Description: instructed_toOpenEyes\n",
      "Onset: 78.22s, Duration: 0.00s, Description: instructed_toCloseEyes\n",
      "Onset: 118.21s, Duration: 0.00s, Description: instructed_toOpenEyes\n",
      "Onset: 138.21s, Duration: 0.00s, Description: instructed_toCloseEyes\n",
      "Onset: 178.21s, Duration: 0.00s, Description: instructed_toOpenEyes\n",
      "Onset: 198.21s, Duration: 0.00s, Description: instructed_toCloseEyes\n",
      "Onset: 238.21s, Duration: 0.00s, Description: instructed_toOpenEyes\n",
      "Onset: 258.21s, Duration: 0.00s, Description: instructed_toCloseEyes\n",
      "Onset: 298.21s, Duration: 0.00s, Description: instructed_toOpenEyes\n",
      "Onset: 318.21s, Duration: 0.00s, Description: instructed_toCloseEyes\n",
      "Onset: 358.21s, Duration: 0.00s, Description: instructed_toOpenEyes\n",
      "Onset: 362.78s, Duration: 0.00s, Description: boundary\n"
     ]
    },
    {
     "name": "stderr",
     "output_type": "stream",
     "text": [
      "/var/folders/3j/r_x6gj790wvcx_mh157ctypm0000gn/T/ipykernel_40246/943693508.py:2: RuntimeWarning: The data contains 'boundary' events, indicating data discontinuities. Be cautious of filtering and epoching around these events.\n",
      "  raw = mne.io.read_raw_eeglab('./sub-NDARDB033FW5_task-RestingState_eeg.set', preload=True)\n"
     ]
    }
   ],
   "source": [
    "import mne\n",
    "raw = mne.io.read_raw_eeglab('./sub-NDARDB033FW5_task-RestingState_eeg.set', preload=True)\n",
    "raw\n",
    "\n",
    "# Print events from the raw object\n",
    "events = mne.events_from_annotations(raw)\n",
    "print(\"\\nEvents found:\")\n",
    "print(events)\n",
    "\n",
    "# Print annotations\n",
    "print(\"\\nAnnotations:\")\n",
    "print(raw.annotations)\n",
    "\n",
    "# You can also get more detailed information about the annotations\n",
    "print(\"\\nAnnotation details:\")\n",
    "for ann in raw.annotations:\n",
    "    print(f\"Onset: {ann['onset']:.2f}s, Duration: {ann['duration']:.2f}s, Description: {ann['description']}\")"
   ]
  },
  {
   "cell_type": "code",
   "execution_count": 18,
   "metadata": {},
   "outputs": [
    {
     "name": "stdout",
     "output_type": "stream",
     "text": [
      "Found 5 'instructed_toCloseEyes' events\n",
      "Extracted 85 segments of 34 seconds each\n",
      "Segment shape: (85, 129, 1000)\n"
     ]
    }
   ],
   "source": [
    "# Extract segments after \"instructed_toCloseEyes\" events\n",
    "import numpy as np\n",
    "\n",
    "# Get all \"instructed_toCloseEyes\" events from raw annotations\n",
    "close_eyes_events = []\n",
    "for annot in raw.annotations:\n",
    "    if annot['description'] == 'instructed_toCloseEyes':\n",
    "        close_eyes_events.append(annot['onset'])\n",
    "\n",
    "# Define segment parameters\n",
    "post_event_delay = 5  # seconds after event\n",
    "sfreq = raw.info['sfreq']  # sampling frequency\n",
    "\n",
    "# Extract segments\n",
    "segments = []\n",
    "for event_time in close_eyes_events:\n",
    "    for event_add_time in range(0, 34, 2): # every 2 seconds for 34 seconds\n",
    "        start_sample = int((event_time + post_event_delay + event_add_time) * sfreq)\n",
    "        end_sample = start_sample + int(2 * sfreq)\n",
    "    \n",
    "        # Check if segment extends beyond data\n",
    "        if end_sample <= raw.n_times:\n",
    "            segment = raw.get_data(start=start_sample, stop=end_sample)\n",
    "            segments.append(segment)\n",
    "\n",
    "segments = np.array(segments)  # Shape will be (n_segments, n_channels, n_samples)\n",
    "\n",
    "print(f\"Found {len(close_eyes_events)} 'instructed_toCloseEyes' events\")\n",
    "print(f\"Extracted {len(segments)} segments of {segment_duration} seconds each\")\n",
    "print(f\"Segment shape: {segments.shape}\")"
   ]
  },
  {
   "cell_type": "code",
   "execution_count": null,
   "metadata": {},
   "outputs": [
    {
     "name": "stdout",
     "output_type": "stream",
     "text": [
      "Used Annotations descriptions: ['boundary', 'break cnt', 'instructed_toCloseEyes', 'instructed_toOpenEyes', 'resting_start']\n",
      "Used Annotations descriptions: ['eyes_closed', 'eyes_open']\n",
      "Not setting metadata\n",
      "70 matching events found\n",
      "No baseline correction applied\n",
      "0 projection items activated\n",
      "Using data from preloaded Raw for 70 events and 1000 original time points ...\n",
      "0 bad epochs dropped\n",
      "Number of 2-second segments: 70\n",
      "Data shape: (70, 129, 1000)\n",
      "<Annotations | 70 segments: eyes_closed (35), eyes_open (35)>\n"
     ]
    },
    {
     "name": "stderr",
     "output_type": "stream",
     "text": [
      "/var/folders/3j/r_x6gj790wvcx_mh157ctypm0000gn/T/ipykernel_82384/2678803217.py:3: RuntimeWarning: The data contains 'boundary' events, indicating data discontinuities. Be cautious of filtering and epoching around these events.\n",
      "  raw = mne.io.read_raw_eeglab('./sub-NDARDB033FW5_task-RestingState_eeg.set', preload=True)\n",
      "/var/folders/3j/r_x6gj790wvcx_mh157ctypm0000gn/T/ipykernel_82384/2678803217.py:30: RuntimeWarning: Omitted 7 annotation(s) that were outside data range.\n",
      "  raw.set_annotations(annot_from_events)\n"
     ]
    }
   ],
   "source": [
    "# Extract 2-second segments after \"instructed_toCloseEyes\" events\n",
    "import mne\n",
    "raw = mne.io.read_raw_eeglab('./sub-NDARDB033FW5_task-RestingState_eeg.set', preload=True)\n",
    "\n",
    "# Create events array from annotations\n",
    "events, event_id = mne.events_from_annotations(raw)\n",
    "\n",
    "# Create new events array for 2-second segments\n",
    "new_events = []\n",
    "sfreq = raw.info['sfreq']\n",
    "for event in events[events[:, 2] == event_id['instructed_toCloseEyes']]:\n",
    "    # For each original event, create events every 2 seconds from 5s to 39s after\n",
    "    start_times = event[0] + np.arange(15, 29, 2) * sfreq\n",
    "    new_events.extend([[int(t), 0, 1] for t in start_times])\n",
    "\n",
    "for event in events[events[:, 2] == event_id['instructed_toOpenEyes']]:\n",
    "    # For each original event, create events every 2 seconds from 5s to 39s after\n",
    "    start_times = event[0] + np.arange(5, 19, 2) * sfreq\n",
    "    new_events.extend([[int(t), 0, 2] for t in start_times])\n",
    "\n",
    "# replace events in raw\n",
    "new_events = np.array(new_events)\n",
    "annot_from_events = mne.annotations_from_events(\n",
    "    events=new_events,\n",
    "    event_desc={1: 'eyes_closed', 2: 'eyes_open'},\n",
    "    sfreq=raw.info['sfreq']\n",
    ")\n",
    "\n",
    "# Clear existing annotations and set new ones\n",
    "raw.set_annotations(annot_from_events)\n",
    "# Create Epochs object with 2-second segments\n",
    "epochs = mne.Epochs(raw,\n",
    "                   event_id={'eyes_closed': 1, 'eyes_open': 2},\n",
    "                   tmin=0,\n",
    "                   tmax=1.998,\n",
    "                   baseline=None,\n",
    "                   preload=True)\n",
    "\n",
    "print(f\"Number of 2-second segments: {len(epochs)}\")\n",
    "print(f\"Data shape: {epochs.get_data().shape}\")\n"
   ]
  },
  {
   "cell_type": "code",
   "execution_count": 9,
   "metadata": {},
   "outputs": [
    {
     "name": "stdout",
     "output_type": "stream",
     "text": [
      "Used Annotations descriptions: ['boundary', 'break cnt', 'instructed_toCloseEyes', 'instructed_toOpenEyes', 'resting_start']\n",
      "Used Annotations descriptions: ['eyes_closed', 'eyes_open']\n",
      "\n",
      "Events found:\n",
      "(array([[ 31608,      0,      2],\n",
      "       [ 32608,      0,      2],\n",
      "       [ 33608,      0,      2],\n",
      "       [ 34608,      0,      2],\n",
      "       [ 35608,      0,      2],\n",
      "       [ 36608,      0,      2],\n",
      "       [ 37608,      0,      2],\n",
      "       [ 46608,      0,      1],\n",
      "       [ 47608,      0,      1],\n",
      "       [ 48608,      0,      1],\n",
      "       [ 49608,      0,      1],\n",
      "       [ 50608,      0,      1],\n",
      "       [ 51608,      0,      1],\n",
      "       [ 52608,      0,      1],\n",
      "       [ 61603,      0,      2],\n",
      "       [ 62603,      0,      2],\n",
      "       [ 63603,      0,      2],\n",
      "       [ 64603,      0,      2],\n",
      "       [ 65603,      0,      2],\n",
      "       [ 66603,      0,      2],\n",
      "       [ 67603,      0,      2],\n",
      "       [ 76603,      0,      1],\n",
      "       [ 77603,      0,      1],\n",
      "       [ 78603,      0,      1],\n",
      "       [ 79603,      0,      1],\n",
      "       [ 80603,      0,      1],\n",
      "       [ 81603,      0,      1],\n",
      "       [ 82603,      0,      1],\n",
      "       [ 91604,      0,      2],\n",
      "       [ 92604,      0,      2],\n",
      "       [ 93604,      0,      2],\n",
      "       [ 94604,      0,      2],\n",
      "       [ 95604,      0,      2],\n",
      "       [ 96604,      0,      2],\n",
      "       [ 97604,      0,      2],\n",
      "       [106605,      0,      1],\n",
      "       [107605,      0,      1],\n",
      "       [108605,      0,      1],\n",
      "       [109605,      0,      1],\n",
      "       [110605,      0,      1],\n",
      "       [111605,      0,      1],\n",
      "       [112605,      0,      1],\n",
      "       [121605,      0,      2],\n",
      "       [122605,      0,      2],\n",
      "       [123605,      0,      2],\n",
      "       [124605,      0,      2],\n",
      "       [125605,      0,      2],\n",
      "       [126605,      0,      2],\n",
      "       [127605,      0,      2],\n",
      "       [136606,      0,      1],\n",
      "       [137606,      0,      1],\n",
      "       [138606,      0,      1],\n",
      "       [139606,      0,      1],\n",
      "       [140606,      0,      1],\n",
      "       [141606,      0,      1],\n",
      "       [142606,      0,      1],\n",
      "       [151606,      0,      2],\n",
      "       [152606,      0,      2],\n",
      "       [153606,      0,      2],\n",
      "       [154606,      0,      2],\n",
      "       [155606,      0,      2],\n",
      "       [156606,      0,      2],\n",
      "       [157606,      0,      2],\n",
      "       [166607,      0,      1],\n",
      "       [167607,      0,      1],\n",
      "       [168607,      0,      1],\n",
      "       [169607,      0,      1],\n",
      "       [170607,      0,      1],\n",
      "       [171607,      0,      1],\n",
      "       [172607,      0,      1]]), {'eyes_closed': 1, 'eyes_open': 2})\n"
     ]
    },
    {
     "name": "stderr",
     "output_type": "stream",
     "text": [
      "/var/folders/3j/r_x6gj790wvcx_mh157ctypm0000gn/T/ipykernel_82384/1675062375.py:34: RuntimeWarning: The data contains 'boundary' events, indicating data discontinuities. Be cautious of filtering and epoching around these events.\n",
      "  raw = mne.io.read_raw_eeglab('./sub-NDARDB033FW5_task-RestingState_eeg.set', preload=True)\n",
      "/var/folders/3j/r_x6gj790wvcx_mh157ctypm0000gn/T/ipykernel_82384/1675062375.py:29: RuntimeWarning: Omitted 7 annotation(s) that were outside data range.\n",
      "  raw.set_annotations(annot_from_events)\n"
     ]
    }
   ],
   "source": [
    "from braindecode.preprocessing import Preprocessor\n",
    "import numpy as np\n",
    "import mne\n",
    "\n",
    "class hbn_ec_ec_reanotation(Preprocessor):\n",
    "    def __init__(self):\n",
    "        pass    \n",
    "    \n",
    "    def apply(self, raw):\n",
    "        # Create events array from annotations\n",
    "        events, event_id = mne.events_from_annotations(raw)\n",
    "\n",
    "        # Create new events array for 2-second segments\n",
    "        new_events = []\n",
    "        sfreq = raw.info['sfreq']\n",
    "        for event in events[events[:, 2] == event_id['instructed_toCloseEyes']]:\n",
    "            # For each original event, create events every 2 seconds from 15s to 29s after\n",
    "            start_times = event[0] + np.arange(15, 29, 2) * sfreq\n",
    "            new_events.extend([[int(t), 0, 1] for t in start_times])\n",
    "\n",
    "        for event in events[events[:, 2] == event_id['instructed_toOpenEyes']]:\n",
    "            # For each original event, create events every 2 seconds from 5s to 19s after\n",
    "            start_times = event[0] + np.arange(5, 19, 2) * sfreq\n",
    "            new_events.extend([[int(t), 0, 2] for t in start_times])\n",
    "\n",
    "        # replace events in raw\n",
    "        new_events = np.array(new_events)\n",
    "        annot_from_events = mne.annotations_from_events(events=new_events,event_desc={1: 'eyes_closed', 2: 'eyes_open'},sfreq=raw.info['sfreq'])\n",
    "        raw.set_annotations(annot_from_events)        \n",
    "        return raw\n",
    "\n",
    "# Example usage:\n",
    "processor = hbn_ec_ec_reanotation()\n",
    "raw = mne.io.read_raw_eeglab('./sub-NDARDB033FW5_task-RestingState_eeg.set', preload=True)\n",
    "raw2 = processor.apply(raw)\n",
    "\n",
    "events = mne.events_from_annotations(raw)\n",
    "print(\"\\nEvents found:\")\n",
    "print(events)\n"
   ]
  },
  {
   "cell_type": "code",
   "execution_count": 25,
   "metadata": {},
   "outputs": [
    {
     "data": {
      "text/plain": [
       "[[46608, 0, 1],\n",
       " [47608, 0, 1],\n",
       " [48608, 0, 1],\n",
       " [49608, 0, 1],\n",
       " [50608, 0, 1],\n",
       " [51608, 0, 1],\n",
       " [52608, 0, 1],\n",
       " [76603, 0, 1],\n",
       " [77603, 0, 1],\n",
       " [78603, 0, 1],\n",
       " [79603, 0, 1],\n",
       " [80603, 0, 1],\n",
       " [81603, 0, 1],\n",
       " [82603, 0, 1],\n",
       " [106605, 0, 1],\n",
       " [107605, 0, 1],\n",
       " [108605, 0, 1],\n",
       " [109605, 0, 1],\n",
       " [110605, 0, 1],\n",
       " [111605, 0, 1],\n",
       " [112605, 0, 1],\n",
       " [136606, 0, 1],\n",
       " [137606, 0, 1],\n",
       " [138606, 0, 1],\n",
       " [139606, 0, 1],\n",
       " [140606, 0, 1],\n",
       " [141606, 0, 1],\n",
       " [142606, 0, 1],\n",
       " [166607, 0, 1],\n",
       " [167607, 0, 1],\n",
       " [168607, 0, 1],\n",
       " [169607, 0, 1],\n",
       " [170607, 0, 1],\n",
       " [171607, 0, 1],\n",
       " [172607, 0, 1],\n",
       " [31608, 0, 2],\n",
       " [32608, 0, 2],\n",
       " [33608, 0, 2],\n",
       " [34608, 0, 2],\n",
       " [35608, 0, 2],\n",
       " [36608, 0, 2],\n",
       " [37608, 0, 2],\n",
       " [61603, 0, 2],\n",
       " [62603, 0, 2],\n",
       " [63603, 0, 2],\n",
       " [64603, 0, 2],\n",
       " [65603, 0, 2],\n",
       " [66603, 0, 2],\n",
       " [67603, 0, 2],\n",
       " [91604, 0, 2],\n",
       " [92604, 0, 2],\n",
       " [93604, 0, 2],\n",
       " [94604, 0, 2],\n",
       " [95604, 0, 2],\n",
       " [96604, 0, 2],\n",
       " [97604, 0, 2],\n",
       " [121605, 0, 2],\n",
       " [122605, 0, 2],\n",
       " [123605, 0, 2],\n",
       " [124605, 0, 2],\n",
       " [125605, 0, 2],\n",
       " [126605, 0, 2],\n",
       " [127605, 0, 2],\n",
       " [151606, 0, 2],\n",
       " [152606, 0, 2],\n",
       " [153606, 0, 2],\n",
       " [154606, 0, 2],\n",
       " [155606, 0, 2],\n",
       " [156606, 0, 2],\n",
       " [157606, 0, 2],\n",
       " [181607, 0, 2],\n",
       " [182607, 0, 2],\n",
       " [183607, 0, 2],\n",
       " [184607, 0, 2],\n",
       " [185607, 0, 2],\n",
       " [186607, 0, 2],\n",
       " [187607, 0, 2]]"
      ]
     },
     "execution_count": 25,
     "metadata": {},
     "output_type": "execute_result"
    }
   ],
   "source": [
    "new_events\n"
   ]
  },
  {
   "cell_type": "code",
   "execution_count": 17,
   "metadata": {},
   "outputs": [
    {
     "data": {
      "text/plain": [
       "6"
      ]
     },
     "execution_count": 17,
     "metadata": {},
     "output_type": "execute_result"
    }
   ],
   "source": [
    "a = range(0,10, 2)\n",
    "a[3]"
   ]
  },
  {
   "cell_type": "code",
   "execution_count": 1,
   "metadata": {},
   "outputs": [
    {
     "name": "stdout",
     "output_type": "stream",
     "text": [
      "Opening raw data file /Users/arno/mne_data/MNE-sample-data/MEG/sample/sample_audvis_raw.fif...\n",
      "    Read a total of 3 projection items:\n",
      "        PCA-v1 (1 x 102)  idle\n",
      "        PCA-v2 (1 x 102)  idle\n",
      "        PCA-v3 (1 x 102)  idle\n"
     ]
    },
    {
     "name": "stderr",
     "output_type": "stream",
     "text": [
      "/Users/arno/miniconda3/envs/p311env/lib/python3.11/site-packages/paramiko/transport.py:219: CryptographyDeprecationWarning: Blowfish has been deprecated\n",
      "  \"class\": algorithms.Blowfish,\n"
     ]
    },
    {
     "name": "stdout",
     "output_type": "stream",
     "text": [
      "    Range : 25800 ... 192599 =     42.956 ...   320.670 secs\n",
      "Ready.\n",
      "Reading 0 ... 166799  =      0.000 ...   277.714 secs...\n",
      "<Info | 21 non-empty values\n",
      " acq_pars: ACQch001 110113 ACQch002 110112 ACQch003 110111 ACQch004 110122 ...\n",
      " bads: 2 items (MEG 2443, EEG 053)\n",
      " ch_names: MEG 0113, MEG 0112, MEG 0111, MEG 0122, MEG 0123, MEG 0121, MEG ...\n",
      " chs: 204 Gradiometers, 102 Magnetometers, 9 Stimulus, 60 EEG, 1 EOG\n",
      " custom_ref_applied: False\n",
      " description: acquisition (megacq) VectorView system at NMR-MGH\n",
      " dev_head_t: MEG device -> head transform\n",
      " dig: 146 items (3 Cardinal, 4 HPI, 61 EEG, 78 Extra)\n",
      " events: 1 item (list)\n",
      " experimenter: MEG\n",
      " file_id: 4 items (dict)\n",
      " highpass: 0.1 Hz\n",
      " hpi_meas: 1 item (list)\n",
      " hpi_results: 1 item (list)\n",
      " lowpass: 172.2 Hz\n",
      " meas_date: 2002-12-03 19:01:10 UTC\n",
      " meas_id: 4 items (dict)\n",
      " nchan: 376\n",
      " proj_id: 1 item (ndarray)\n",
      " proj_name: test\n",
      " projs: PCA-v1: off, PCA-v2: off, PCA-v3: off\n",
      " sfreq: 600.6 Hz\n",
      ">\n"
     ]
    }
   ],
   "source": [
    "# USE PYTHON ASR\n",
    "import mne\n",
    "\n",
    "sample_data_path = mne.datasets.sample.data_path()\n",
    "eeg_file = str(sample_data_path) + '/MEG/sample/sample_audvis_raw.fif'\n",
    "\n",
    "# Read the raw EEG data\n",
    "raw = mne.io.read_raw_fif(eeg_file, preload=True)\n",
    "print(raw.info)\n",
    "\n",
    "import asrpy\n",
    "asr = asrpy.ASR(sfreq=raw.info[\"sfreq\"], cutoff=20)\n",
    "asr.fit(raw)\n",
    "raw = asr.transform(raw)"
   ]
  },
  {
   "cell_type": "code",
   "execution_count": null,
   "metadata": {},
   "outputs": [],
   "source": [
    "\n"
   ]
  },
  {
   "cell_type": "code",
   "execution_count": 1,
   "metadata": {},
   "outputs": [],
   "source": [
    "import sys\n",
    "import importlib\n",
    "sys.path.insert(0, '/Users/arno/Python/eegprep/src/')\n",
    "import eegprep\n",
    "importlib.reload(eegprep)  # Step 3: Reload the library to reflect the changes\n",
    "from eegprep import pop_loadset\n",
    "from eegprep import iclabel\n",
    "\n",
    "# Load the dataset\n",
    "eeg_file = '../data/eeglab_data_with_ica_tmp.set'\n",
    "EEG = pop_loadset(eeg_file)\n",
    "# EEG = pop_eegfiltnew(EEG, locutoff=5,hicutoff=25,revfilt=True,plotfreqz=False)\n",
    "# EEG = clean_artifacts(EEG, FlatlineCriterion=5,ChannelCriterion=0.87, LineNoiseCriterion=4,Highpass=[0.25, 0.75],BurstCriterion= 20, WindowCriterion=0.25, BurstRejection=True, WindowCriterionTolerances=[float('-inf'), 7])\n",
    "EEG = iclabel(EEG)\n",
    "# pop_saveset(EEG, fname_out)"
   ]
  },
  {
   "cell_type": "code",
   "execution_count": 5,
   "metadata": {},
   "outputs": [
    {
     "name": "stdout",
     "output_type": "stream",
     "text": [
      "\u001b[?2004l\n",
      "\u001b[?2004l\n",
      "\u001b[?2004l\n",
      "\u001b[?2004l\n",
      "\u001b[?2004l\n",
      "\u001b[?2004l\n",
      "\u001b[?2004l\n",
      "\u001b[?2004l\n",
      "\u001b[?2004l\n",
      "\u001b[?2004l\n",
      "\u001b[?2004l\n",
      "\u001b[?2004l\n",
      "\u001b[?2004l\n",
      "\u001b[?2004l\n",
      "\u001b[?2004l\n",
      "\u001b[?2004l\n",
      "\u001b[?2004l\n",
      "\u001b[?2004l\n",
      "\u001b[?2004l\n",
      "\u001b[?2004l\n",
      "\u001b[?2004l\n",
      "\u001b[?2004l\n",
      "\u001b[?2004l\n",
      "\u001b[?2004l\n",
      "warning: strmatch is obsolete; use strncmp or strcmp instead\n",
      "pop_loadset(): loading file /System/Volumes/Data/data/matlab/eeglab/sample_data/eeglab_data_epochs_ica.set ...\n",
      "warning: backtrace\n",
      "warning: called from\n",
      "    eeg_checkset at line 187 column 1\n",
      "    pop_loadset at line 249 column 9\n",
      "    _pyeval at line 57 column 30\n",
      "\n",
      "warning: implicit conversion from numeric to char\n",
      "warning: called from\n",
      "    eeg_hist at line 53 column 21\n",
      "    eeg_checkset at line 1295 column 13\n",
      "    pop_loadset at line 249 column 9\n",
      "    _pyeval at line 57 column 30\n",
      "\n",
      "warning: backtrace\n",
      "warning: called from\n",
      "    eeg_checkset at line 187 column 1\n",
      "    pop_loadset at line 253 column 13\n",
      "    _pyeval at line 57 column 30\n",
      "\n",
      "Reading float file '/System/Volumes/Data/data/matlab/eeglab/sample_data/eeglab_data_epochs_ica.fdt'...\n",
      "warning: findstr is obsolete; use strfind instead\n",
      "eeg_checkset: recomputing the ICA activation matrix ...\n",
      "Time taken pop_loadset: 3.2334253787994385\n",
      "\u001b[?2004l\n",
      "\u001b[?2004l\n",
      "\u001b[?2004l\n",
      "Signal Processing Toolbox absent: using custom interpolation instead of resample() function.\n",
      "This method uses cubic spline interpolation after anti-aliasing (see >> help spline)\n",
      "resampling data 100.0000 Hz\n",
      "1 2 3 4 5 6 7 8 9 10 11 12 13 14 15 16 17 18 19 20 21 22 23 24 25 26 27 28 29 30 31 32\n",
      "resampling event latencies...\n",
      "warning: Resampling of epoched data is not recommended (due to anti-aliasing filtering)! Note: For epoched datasets recomputing urevent latencies is not supported. The urevent structure will be cleared.\n",
      "warning: called from\n",
      "    pop_resample at line 199 column 9\n",
      "    _pyeval at line 57 column 30\n",
      "\n",
      "warning: backtrace\n",
      "warning: called from\n",
      "    eeg_checkset at line 187 column 1\n",
      "    pop_resample at line 272 column 9\n",
      "    _pyeval at line 57 column 30\n",
      "\n",
      "warning: backtrace\n",
      "warning: called from\n",
      "    eeg_checkset at line 187 column 1\n",
      "    eeg_checkset at line 380 column 32\n",
      "    pop_resample at line 272 column 9\n",
      "    _pyeval at line 57 column 30\n",
      "\n",
      "eeg_checkset: recomputing the ICA activation matrix ...\n",
      "resampling finished\n",
      "Time taken pop_resample: 3.0073940753936768\n"
     ]
    }
   ],
   "source": [
    "from oct2py import octave as eeglab\n",
    "sys.path.insert(0, '/Users/arno/Python/eegprep/src/')\n",
    "import eegprep\n",
    "importlib.reload(eegprep)  # Step 3: Reload the library to reflect the changes\n",
    "from eegprep import pop_loadset\n",
    "from eegprep import eeglabcompat\n",
    "import time\n",
    "\n",
    "path2eeglab = '/System/Volumes/Data/data/matlab/eeglab/'\n",
    "eeglab.addpath(path2eeglab + '/functions/guifunc')\n",
    "eeglab.addpath(path2eeglab + '/functions/popfunc')\n",
    "eeglab.addpath(path2eeglab + '/functions/adminfunc')\n",
    "eeglab.addpath(path2eeglab + '/plugins/firfilt')\n",
    "eeglab.addpath(path2eeglab + '/functions/sigprocfunc')\n",
    "eeglab.addpath(path2eeglab + '/functions/miscfunc')\n",
    "eeglab.addpath(path2eeglab + '/plugins/dipfit')\n",
    "\n",
    "start = time.time()\n",
    "EEG = eeglab.pop_loadset(path2eeglab + '/sample_data/eeglab_data_epochs_ica.set')\n",
    "stop = time.time()\n",
    "print(f\"Time taken pop_loadset: {stop - start}\")\n",
    "\n",
    "# time the function below\n",
    "import time\n",
    "start = time.time()\n",
    "EEG2 = eeglab.pop_resample(EEG, 100)\n",
    "stop = time.time()\n",
    "print(f\"Time taken pop_resample: {stop - start}\")\n"
   ]
  },
  {
   "cell_type": "code",
   "execution_count": 9,
   "metadata": {},
   "outputs": [
    {
     "ename": "Oct2PyError",
     "evalue": "Value \"pop_loadset\" does not exist in Octave workspace",
     "output_type": "error",
     "traceback": [
      "\u001b[0;31m---------------------------------------------------------------------------\u001b[0m",
      "\u001b[0;31mOct2PyError\u001b[0m                               Traceback (most recent call last)",
      "Cell \u001b[0;32mIn[9], line 9\u001b[0m\n\u001b[1;32m      7\u001b[0m eeglab_file_path \u001b[38;5;241m=\u001b[39m \u001b[38;5;124m'\u001b[39m\u001b[38;5;124m/System/Volumes/Data/data/matlab/eeglab/sample_data/eeglab_data.set\u001b[39m\u001b[38;5;124m'\u001b[39m\n\u001b[1;32m      8\u001b[0m EEG \u001b[38;5;241m=\u001b[39m pop_loadset(eeglab_file_path)\n\u001b[0;32m----> 9\u001b[0m EEG \u001b[38;5;241m=\u001b[39m pop_eegfiltnew(EEG, locutoff\u001b[38;5;241m=\u001b[39m\u001b[38;5;241m5\u001b[39m,hicutoff\u001b[38;5;241m=\u001b[39m\u001b[38;5;241m25\u001b[39m,revfilt\u001b[38;5;241m=\u001b[39m\u001b[38;5;28;01mTrue\u001b[39;00m,plotfreqz\u001b[38;5;241m=\u001b[39m\u001b[38;5;28;01mFalse\u001b[39;00m)\n\u001b[1;32m     10\u001b[0m EEG \u001b[38;5;241m=\u001b[39m clean_artifacts(EEG, FlatlineCriterion\u001b[38;5;241m=\u001b[39m\u001b[38;5;241m5\u001b[39m,ChannelCriterion\u001b[38;5;241m=\u001b[39m\u001b[38;5;241m0.87\u001b[39m, LineNoiseCriterion\u001b[38;5;241m=\u001b[39m\u001b[38;5;241m4\u001b[39m,Highpass\u001b[38;5;241m=\u001b[39m\u001b[38;5;28;01mFalse\u001b[39;00m,BurstCriterion\u001b[38;5;241m=\u001b[39m \u001b[38;5;241m20\u001b[39m, WindowCriterion\u001b[38;5;241m=\u001b[39m\u001b[38;5;241m0.25\u001b[39m, BurstRejection\u001b[38;5;241m=\u001b[39m\u001b[38;5;28;01mFalse\u001b[39;00m, WindowCriterionTolerances\u001b[38;5;241m=\u001b[39m[\u001b[38;5;28mfloat\u001b[39m(\u001b[38;5;124m'\u001b[39m\u001b[38;5;124m-inf\u001b[39m\u001b[38;5;124m'\u001b[39m), \u001b[38;5;241m7\u001b[39m])\n",
      "File \u001b[0;32m~/Python/eegprep/src/eegprep/eeglabcompat.py:49\u001b[0m, in \u001b[0;36mpop_eegfiltnew\u001b[0;34m(EEG, locutoff, hicutoff, revfilt, plotfreqz)\u001b[0m\n\u001b[1;32m     46\u001b[0m     \u001b[38;5;28;01mraise\u001b[39;00m(\u001b[38;5;124m'\u001b[39m\u001b[38;5;124mCannot have low cutoff and high cutoff not defined\u001b[39m\u001b[38;5;124m'\u001b[39m)\n\u001b[1;32m     48\u001b[0m pop_saveset(EEG, \u001b[38;5;124m'\u001b[39m\u001b[38;5;124m./tmp.set\u001b[39m\u001b[38;5;124m'\u001b[39m) \u001b[38;5;66;03m# 0.8 seconds\u001b[39;00m\n\u001b[0;32m---> 49\u001b[0m EEG2 \u001b[38;5;241m=\u001b[39m eeglab\u001b[38;5;241m.\u001b[39mpop_loadset(\u001b[38;5;124m'\u001b[39m\u001b[38;5;124m./tmp.set\u001b[39m\u001b[38;5;124m'\u001b[39m) \u001b[38;5;66;03m# 2 seconds\u001b[39;00m\n\u001b[1;32m     50\u001b[0m EEG3 \u001b[38;5;241m=\u001b[39m eeglab\u001b[38;5;241m.\u001b[39mpop_eegfiltnew(EEG2, \u001b[38;5;124m'\u001b[39m\u001b[38;5;124mlocutoff\u001b[39m\u001b[38;5;124m'\u001b[39m,locutoff,\u001b[38;5;124m'\u001b[39m\u001b[38;5;124mhicutoff\u001b[39m\u001b[38;5;124m'\u001b[39m,hicutoff,\u001b[38;5;124m'\u001b[39m\u001b[38;5;124mrevfilt\u001b[39m\u001b[38;5;124m'\u001b[39m,revfilt,\u001b[38;5;124m'\u001b[39m\u001b[38;5;124mplotfreqz\u001b[39m\u001b[38;5;124m'\u001b[39m,plotfreqz)\n\u001b[1;32m     51\u001b[0m eeglab\u001b[38;5;241m.\u001b[39mpop_saveset(EEG3, \u001b[38;5;124m'\u001b[39m\u001b[38;5;124m./tmp2.set\u001b[39m\u001b[38;5;124m'\u001b[39m) \u001b[38;5;66;03m# 2.4 seconds\u001b[39;00m\n",
      "File \u001b[0;32m~/miniconda3/envs/p311env/lib/python3.11/site-packages/oct2py/core.py:800\u001b[0m, in \u001b[0;36mOct2Py.__getattr__\u001b[0;34m(self, attr)\u001b[0m\n\u001b[1;32m    797\u001b[0m     \u001b[38;5;28;01mraise\u001b[39;00m Oct2PyError(\u001b[38;5;124m\"\u001b[39m\u001b[38;5;124mSession is closed\u001b[39m\u001b[38;5;124m\"\u001b[39m)\n\u001b[1;32m    799\u001b[0m \u001b[38;5;66;03m# Make sure the name exists.\u001b[39;00m\n\u001b[0;32m--> 800\u001b[0m exist \u001b[38;5;241m=\u001b[39m \u001b[38;5;28mself\u001b[39m\u001b[38;5;241m.\u001b[39m_exist(name)\n\u001b[1;32m    802\u001b[0m \u001b[38;5;28;01mif\u001b[39;00m exist \u001b[38;5;129;01mnot\u001b[39;00m \u001b[38;5;129;01min\u001b[39;00m [\u001b[38;5;241m2\u001b[39m, \u001b[38;5;241m3\u001b[39m, \u001b[38;5;241m5\u001b[39m, \u001b[38;5;241m103\u001b[39m]:\n\u001b[1;32m    803\u001b[0m     msg \u001b[38;5;241m=\u001b[39m \u001b[38;5;124m'\u001b[39m\u001b[38;5;124mName \u001b[39m\u001b[38;5;124m\"\u001b[39m\u001b[38;5;132;01m%s\u001b[39;00m\u001b[38;5;124m\"\u001b[39m\u001b[38;5;124m is not a valid callable, use `pull` for variables\u001b[39m\u001b[38;5;124m'\u001b[39m\n",
      "File \u001b[0;32m~/miniconda3/envs/p311env/lib/python3.11/site-packages/oct2py/core.py:757\u001b[0m, in \u001b[0;36mOct2Py._exist\u001b[0;34m(self, name)\u001b[0m\n\u001b[1;32m    755\u001b[0m \u001b[38;5;28;01mif\u001b[39;00m \u001b[38;5;124m\"\u001b[39m\u001b[38;5;124merror:\u001b[39m\u001b[38;5;124m\"\u001b[39m \u001b[38;5;129;01min\u001b[39;00m resp:\n\u001b[1;32m    756\u001b[0m     msg \u001b[38;5;241m=\u001b[39m \u001b[38;5;124m'\u001b[39m\u001b[38;5;124mValue \u001b[39m\u001b[38;5;124m\"\u001b[39m\u001b[38;5;132;01m%s\u001b[39;00m\u001b[38;5;124m\"\u001b[39m\u001b[38;5;124m does not exist in Octave workspace\u001b[39m\u001b[38;5;124m'\u001b[39m\n\u001b[0;32m--> 757\u001b[0m     \u001b[38;5;28;01mraise\u001b[39;00m Oct2PyError(msg \u001b[38;5;241m%\u001b[39m name)\n\u001b[1;32m    758\u001b[0m \u001b[38;5;28;01melse\u001b[39;00m:\n\u001b[1;32m    759\u001b[0m     exist \u001b[38;5;241m=\u001b[39m \u001b[38;5;241m2\u001b[39m\n",
      "\u001b[0;31mOct2PyError\u001b[0m: Value \"pop_loadset\" does not exist in Octave workspace"
     ]
    }
   ],
   "source": [
    "import eegprep\n",
    "importlib.reload(eegprep)  # Step 3: Reload the library to reflect the changes\n",
    "from eegprep import pop_loadset\n",
    "from eegprep import pop_eegfiltnew\n",
    "from eegprep import clean_artifacts\n",
    "\n",
    "eeglab_file_path = '/System/Volumes/Data/data/matlab/eeglab/sample_data/eeglab_data.set'\n",
    "EEG = pop_loadset(eeglab_file_path)\n",
    "EEG = pop_eegfiltnew(EEG, locutoff=5,hicutoff=25,revfilt=True,plotfreqz=False)\n",
    "EEG = clean_artifacts(EEG, FlatlineCriterion=5,ChannelCriterion=0.87, LineNoiseCriterion=4,Highpass=False,BurstCriterion= 20, WindowCriterion=0.25, BurstRejection=False, WindowCriterionTolerances=[float('-inf'), 7])\n"
   ]
  },
  {
   "cell_type": "code",
   "execution_count": 6,
   "metadata": {},
   "outputs": [
    {
     "name": "stdout",
     "output_type": "stream",
     "text": [
      "-31.087076\n"
     ]
    },
    {
     "name": "stderr",
     "output_type": "stream",
     "text": [
      "/Users/arno/Python/iclabel/pop_loadset.py:39: VisibleDeprecationWarning: Creating an ndarray from ragged nested sequences (which is a list-or-tuple of lists-or-tuples-or ndarrays with different lengths or shapes) is deprecated. If you meant to do this, you must specify 'dtype=object' when creating the ndarray.\n",
      "  return np.array([new_check(item) for item in obj])\n"
     ]
    }
   ],
   "source": [
    "import pop_loadset\n",
    "import importlib\n",
    "import matplotlib.pyplot as plt\n",
    "importlib.reload(pop_loadset)  # Step 3: Reload the library to reflect the changes\n",
    "from pop_loadset import pop_loadset\n",
    "\n",
    "eeglab_file_path = '/System/Volumes/Data/data/matlab/eeglab/sample_data/eeglab_data_epochs_ica.set'\n",
    "#eeglab_file_path = 'NDARZZ830JM7_eyesclosed.set'\n",
    "EEG2 = pop_loadset(eeglab_file_path)\n",
    "\n",
    "print(EEG2['data'][0,2,1])\n",
    "\n",
    "# eeglab.eeg_compare(EEG, EEG2)\n",
    "\n",
    "# print(EEG['filepath'])\n",
    "# print(EEG2['filepath'])\n",
    "\n",
    "# Field filepath differs\n",
    "# Field icaact differs\n",
    "# Field icawinv differs\n",
    "# Field icaweights differs\n",
    "# Field chanlocs differs\n",
    "# Field urchanlocs differs\n",
    "# Field chaninfo differs\n",
    "# Field event differs (n=157 vs n=157)\n",
    "# Field urevent differs\n",
    "# Field epoch differs\n",
    "# Field epochdescription differs\n",
    "# Field reject differs\n",
    "# Field history differs\n",
    "# Field saved differs\n",
    "# Field etc differs\n",
    "# Field run missing in second dataset\n",
    "# Field roi missing in second dataset\n",
    "# The field above are different between the two datasets\n",
    "# print them all\n",
    "# print(EEG.keys())\n",
    "# print(EEG2.keys())\n",
    "# for key in EEG.keys():\n",
    "#     if key in EEG2.keys():\n",
    "#         if not np.all(EEG[key] == EEG2[key]):\n",
    "#             print(key)\n",
    "#     else:\n",
    "#         print(key)\n",
    "# for key in EEG2.keys():\n",
    "#     if key not in EEG.keys():\n",
    "#         print(key)\n",
    "\n",
    "# check if EEG exists in the workspace\n",
    "if 'EEG' in locals():\n",
    "    print(EEG['filepath'])\n",
    "    print(EEG2['filepath'])\n",
    "    print(EEG['icaact'].shape)\n",
    "    print(EEG2['icaact'].shape)\n",
    "    print(EEG['icawinv'].shape)\n",
    "    print(EEG2['icawinv'].shape)\n",
    "    print(EEG['icaweights'].shape)\n",
    "    print(EEG2['icaweights'].shape)\n",
    "    print(EEG['chanlocs'].shape)\n",
    "    print(EEG2['chanlocs'].shape)\n",
    "    print(EEG['urchanlocs'].shape)\n",
    "    print(EEG2['urchanlocs'].shape)\n",
    "\n",
    "    EEG['chanlocs']['labels'][0,0]\n",
    "\n",
    "    EEG.event.type[0,0]\n",
    "    EEG['event']['type'][0,0]\n",
    "    EEG2['event'][0]['type']"
   ]
  },
  {
   "cell_type": "code",
   "execution_count": 15,
   "metadata": {},
   "outputs": [
    {
     "ename": "TypeError",
     "evalue": "object of type 'int' has no len()",
     "output_type": "error",
     "traceback": [
      "\u001b[0;31m---------------------------------------------------------------------------\u001b[0m",
      "\u001b[0;31mTypeError\u001b[0m                                 Traceback (most recent call last)",
      "Cell \u001b[0;32mIn[15], line 1\u001b[0m\n\u001b[0;32m----> 1\u001b[0m \u001b[38;5;28mlen\u001b[39m(\u001b[38;5;241m3\u001b[39m)\n",
      "\u001b[0;31mTypeError\u001b[0m: object of type 'int' has no len()"
     ]
    }
   ],
   "source": [
    "a = np.array([1, 2, 3])\n",
    "\n",
    "# check if a is a numpy array\n",
    "if isinstance(a, np.ndarray):\n",
    "    print('a is a numpy array')"
   ]
  },
  {
   "cell_type": "code",
   "execution_count": 63,
   "metadata": {},
   "outputs": [],
   "source": [
    "import numpy as np\n",
    "\n",
    "if len(EEG['icachansind']) == EEG['nbchan']:\n",
    "    # Subtract mean from EEG data using broadcasting in NumPy\n",
    "    EEG['data'] = EEG['data'] - np.mean(EEG['data'], axis=0)\n",
    "    \n",
    "    # Subtract mean from EEG icawinv using broadcasting in NumPy\n",
    "    EEG['icawinv'] = EEG['icawinv'] - np.mean(EEG['icawinv'], axis=0)\n",
    "    \n",
    "    # Compute the pseudoinverse of EEG['icawinv']\n",
    "    EEG['icaweights'] = np.linalg.pinv(EEG['icawinv'])\n",
    "    \n",
    "    # Create an identity matrix for EEG['icasphere']\n",
    "    EEG['icasphere'] = np.eye(EEG['nbchan'])\n",
    "    \n",
    "    # Set EEG['ref'] to 'average'\n",
    "    EEG['ref'] = 'average'\n",
    "    \n",
    "    # Update the reference for each channel in EEG['chanlocs']\n",
    "    for iChan in range(len(EEG['chanlocs'])):\n",
    "        EEG['chanlocs'][iChan]['ref'] = 'average'"
   ]
  },
  {
   "cell_type": "code",
   "execution_count": 5,
   "metadata": {},
   "outputs": [
    {
     "data": {
      "text/plain": [
       "('',)"
      ]
     },
     "execution_count": 5,
     "metadata": {},
     "output_type": "execute_result"
    }
   ],
   "source": [
    "# Create the list of dictionaries\n",
    "d_list = [{'labels': c} for c in ['a','b','c']]\n",
    "\n",
    "# Define the data type for the structured array\n",
    "dtype = np.dtype([('labels', np.str_)])\n",
    "\n",
    "# Convert the list of dictionaries to a structured NumPy array\n",
    "tmp = np.array([ (item['labels'],) for item in d_list ], dtype=dtype)\n",
    "\n"
   ]
  },
  {
   "cell_type": "code",
   "execution_count": 2,
   "metadata": {},
   "outputs": [],
   "source": [
    "# save_d_to_mat.py\n",
    "\n",
    "import numpy as np\n",
    "from scipy.io import savemat\n",
    "\n",
    "# Create the list of dictionaries\n",
    "d_list = [{'labels': c} for c in range(2)]\n",
    "\n",
    "# Define the data type for the structured array\n",
    "dtype = np.dtype([('labels', np.int32)])\n",
    "\n",
    "# Convert the list of dictionaries to a structured NumPy array\n",
    "d_array = np.array([ (item['labels'],) for item in d_list ], dtype=dtype)\n",
    "\n",
    "# Save the structured array to a MATLAB .mat file\n",
    "savemat('d_struct2.mat', {'d': d_array})"
   ]
  },
  {
   "cell_type": "code",
   "execution_count": null,
   "metadata": {},
   "outputs": [
    {
     "ename": "NameError",
     "evalue": "name 'pop_loadset' is not defined",
     "output_type": "error",
     "traceback": [
      "\u001b[0;31m---------------------------------------------------------------------------\u001b[0m",
      "\u001b[0;31mNameError\u001b[0m                                 Traceback (most recent call last)",
      "Cell \u001b[0;32mIn[1], line 1\u001b[0m\n\u001b[0;32m----> 1\u001b[0m EEG \u001b[38;5;241m=\u001b[39m pop_loadset(eeglab_file_path)\n",
      "\u001b[0;31mNameError\u001b[0m: name 'pop_loadset' is not defined"
     ]
    }
   ],
   "source": []
  },
  {
   "cell_type": "code",
   "execution_count": 15,
   "metadata": {},
   "outputs": [
    {
     "name": "stdout",
     "output_type": "stream",
     "text": [
      "Time taken pop_loadset(p): 0.03513383865356445\n",
      "Time taken pop_saveset(p): 0.08228611946105957\n"
     ]
    },
    {
     "name": "stderr",
     "output_type": "stream",
     "text": [
      "/Users/arno/Python/iclabel/pop_loadset.py:39: VisibleDeprecationWarning: Creating an ndarray from ragged nested sequences (which is a list-or-tuple of lists-or-tuples-or ndarrays with different lengths or shapes) is deprecated. If you meant to do this, you must specify 'dtype=object' when creating the ndarray.\n",
      "  return np.array([new_check(item) for item in obj])\n"
     ]
    },
    {
     "ename": "ValueError",
     "evalue": "axes don't match array",
     "output_type": "error",
     "traceback": [
      "\u001b[0;31m---------------------------------------------------------------------------\u001b[0m",
      "\u001b[0;31mValueError\u001b[0m                                Traceback (most recent call last)",
      "Cell \u001b[0;32mIn[15], line 28\u001b[0m\n\u001b[1;32m     25\u001b[0m info \u001b[38;5;241m=\u001b[39m mne\u001b[38;5;241m.\u001b[39mcreate_info(ch_names\u001b[38;5;241m=\u001b[39m[ x[\u001b[38;5;124m'\u001b[39m\u001b[38;5;124mlabels\u001b[39m\u001b[38;5;124m'\u001b[39m] \u001b[38;5;28;01mfor\u001b[39;00m x \u001b[38;5;129;01min\u001b[39;00m EEG[\u001b[38;5;124m'\u001b[39m\u001b[38;5;124mchanlocs\u001b[39m\u001b[38;5;124m'\u001b[39m]], sfreq\u001b[38;5;241m=\u001b[39mEEG[\u001b[38;5;124m'\u001b[39m\u001b[38;5;124msrate\u001b[39m\u001b[38;5;124m'\u001b[39m], ch_types\u001b[38;5;241m=\u001b[39m\u001b[38;5;124m'\u001b[39m\u001b[38;5;124meeg\u001b[39m\u001b[38;5;124m'\u001b[39m)\n\u001b[1;32m     27\u001b[0m \u001b[38;5;66;03m# create MNE Raw object\u001b[39;00m\n\u001b[0;32m---> 28\u001b[0m raw \u001b[38;5;241m=\u001b[39m mne\u001b[38;5;241m.\u001b[39mio\u001b[38;5;241m.\u001b[39mRawArray(EEG[\u001b[38;5;124m'\u001b[39m\u001b[38;5;124mdata\u001b[39m\u001b[38;5;124m'\u001b[39m]\u001b[38;5;241m.\u001b[39mtranspose(\u001b[38;5;241m0\u001b[39m,\u001b[38;5;241m2\u001b[39m,\u001b[38;5;241m1\u001b[39m)\u001b[38;5;241m.\u001b[39mreshape(EEG[\u001b[38;5;124m'\u001b[39m\u001b[38;5;124mnbchan\u001b[39m\u001b[38;5;124m'\u001b[39m], \u001b[38;5;241m-\u001b[39m\u001b[38;5;241m1\u001b[39m), info)\n\u001b[1;32m     30\u001b[0m \u001b[38;5;66;03m# plot data\u001b[39;00m\n\u001b[1;32m     31\u001b[0m raw\u001b[38;5;241m.\u001b[39mplot(n_channels\u001b[38;5;241m=\u001b[39m\u001b[38;5;241m10\u001b[39m, scalings\u001b[38;5;241m=\u001b[39m\u001b[38;5;241m100\u001b[39m, title\u001b[38;5;241m=\u001b[39m\u001b[38;5;124m'\u001b[39m\u001b[38;5;124mData from arrays\u001b[39m\u001b[38;5;124m'\u001b[39m, show\u001b[38;5;241m=\u001b[39m\u001b[38;5;28;01mTrue\u001b[39;00m, block\u001b[38;5;241m=\u001b[39m\u001b[38;5;28;01mTrue\u001b[39;00m, duration\u001b[38;5;241m=\u001b[39m\u001b[38;5;241m10.0\u001b[39m)\n",
      "\u001b[0;31mValueError\u001b[0m: axes don't match array"
     ]
    }
   ],
   "source": [
    "from topoplot import topoplot\n",
    "from pop_loadset import pop_loadset\n",
    "from pop_saveset import pop_saveset\n",
    "import os\n",
    "import time\n",
    "\n",
    "eeglab_file_path = '/System/Volumes/Data/data/matlab/eeglab/sample_data/eeglab_data_epochs_ica.set'\n",
    "eeglab_file_path = './eeglab_data_with_ica_tmp.set'\n",
    "start = time.time()\n",
    "EEG = pop_loadset(eeglab_file_path)\n",
    "stop = time.time()\n",
    "print(f\"Time taken pop_loadset(p): {stop - start}\")\n",
    "\n",
    "start = time.time()\n",
    "EEG = pop_saveset(EEG, 'tmp.set')\n",
    "stop = time.time()\n",
    "print(f\"Time taken pop_saveset(p): {stop - start}\")\n",
    "\n",
    "# plot data using MNE\n",
    "\n",
    "import mne\n",
    "import matplotlib.pyplot as plt\n",
    "\n",
    "# create MNE info structure\n",
    "info = mne.create_info(ch_names=[ x['labels'] for x in EEG['chanlocs']], sfreq=EEG['srate'], ch_types='eeg')\n",
    "\n",
    "# create MNE Raw object\n",
    "raw = mne.io.RawArray(EEG['data'].transpose(0,2,1).reshape(EEG['nbchan'], -1), info)\n",
    "\n",
    "# plot data\n",
    "raw.plot(n_channels=10, scalings=100, title='Data from arrays', show=True, block=True, duration=10.0)    \n",
    "\n",
    "# plot topoplot\n",
    "# topoplot(EEG['icawinv'][:, 0], EEG['chanlocs'], show=True)"
   ]
  },
  {
   "cell_type": "code",
   "execution_count": 173,
   "metadata": {},
   "outputs": [
    {
     "data": {
      "image/png": "[encoded data removed]",
      "text/plain": [
       "<Figure size 640x480 with 2 Axes>"
      ]
     },
     "metadata": {},
     "output_type": "display_data"
    }
   ],
   "source": [
    "import pop_loadset\n",
    "import importlib\n",
    "import matplotlib.pyplot as plt\n",
    "importlib.reload(pop_loadset)  # Step 3: Reload the library to reflect the changes\n",
    "from pop_loadset import pop_loadset\n",
    "\n",
    "EEG = pop_loadset(eeglab_file_path)\n",
    "EEG['data']\n",
    "\n",
    "nfreqs = 100\n",
    "pct_data = 100\n",
    "\n",
    "# clean input cutoff freq\n",
    "nyquist = EEG['srate'] // 2\n",
    "if nfreqs is None or nfreqs > nyquist:\n",
    "    nfreqs = nyquist\n",
    "\n",
    "# setup constants\n",
    "ncomp = EEG['icaweights'].shape[0]\n",
    "\n",
    "# Hamming window\n",
    "n_points = min(EEG['pnts'], EEG['srate'])\n",
    "m = n_points\n",
    "isOddLength = m % 2\n",
    "if isOddLength:\n",
    "    x = np.arange(0, (m - 1) / 2 + 1) / (m - 1)\n",
    "else:\n",
    "    x = np.arange(0, m / 2) / (m - 1)\n",
    "\n",
    "a = 0.54\n",
    "window = a - (1 - a) * np.cos(2 * np.pi * x)\n",
    "if isOddLength:\n",
    "    window = np.concatenate([window, window[-2::-1]])\n",
    "else:\n",
    "    window = np.concatenate([window, window[::-1]])\n",
    "\n",
    "cutoff = (EEG['pnts'] // n_points) * n_points\n",
    "index = np.add.outer(np.arange(0, cutoff - n_points//2, n_points // 2), np.arange(0, n_points)).astype(int).transpose()\n",
    "\n",
    "np.random.seed(42)  # rng('default') in MATLAB\n",
    "n_seg = index.shape[1] * EEG['trials']\n",
    "num_vals = int(n_seg * pct_data / 100)\n",
    "subset = np.arange(0, num_vals)\n",
    "random_numbers = np.random.rand(num_vals)\n",
    "sort_idx = np.argsort(random_numbers)\n",
    "subset = subset[sort_idx]\n",
    "\n",
    "# subset = np.random.permutation(n_seg)[:int(n_seg * pct_data / 100)]\n",
    "\n",
    "# calculate windowed spectrums\n",
    "psdmed = np.zeros((ncomp, nfreqs))\n",
    "for it in range(ncomp):\n",
    "    temp = np.reshape(EEG['icaact'][it, index, :], (1, index.shape[0], index.shape[1] * EEG['trials']))\n",
    "    temp = temp[:, :, subset] * window[:, np.newaxis]\n",
    "    temp = fft(temp, n_points, axis=1)\n",
    "    temp = np.abs(temp) ** 2\n",
    "    temp = temp[:, 1:nfreqs + 1, :] * 2 / (EEG['srate'] * np.sum(window ** 2))\n",
    "    if nfreqs == nyquist:\n",
    "        temp[:, -1, :] /= 2\n",
    "    psdmed[it, :] = 20 * np.log10(np.median(temp, axis=2))\n",
    "\n",
    "# image psdmed\n",
    "plt.imshow(psdmed, aspect='auto', origin='lower', extent=[0, nfreqs, 0, ncomp])\n",
    "plt.colorbar()\n",
    "plt.show()"
   ]
  },
  {
   "cell_type": "code",
   "execution_count": 171,
   "metadata": {},
   "outputs": [
    {
     "data": {
      "text/plain": [
       "-7.679533"
      ]
     },
     "execution_count": 171,
     "metadata": {},
     "output_type": "execute_result"
    }
   ],
   "source": [
    "import pop_loadset\n",
    "importlib.reload(pop_loadset)  # Step 3: Reload the library to reflect the changes\n",
    "from pop_loadset import pop_loadset\n",
    "eeglab_file_path = '/System/Volumes/Data/data/matlab/eeglab/sample_data/eeglab_data_epochs_ica.set'\n",
    "EEG = pop_loadset(eeglab_file_path)\n",
    "# EEG['data'].transpose(2, 0, 1).shape\n",
    "# EEG['data'][:2,:2,:2]\n",
    "EEG['data'][5,10,11]\n",
    "# EEG['data'][:,1,0]"
   ]
  },
  {
   "cell_type": "code",
   "execution_count": 107,
   "metadata": {},
   "outputs": [
    {
     "data": {
      "image/png": "[encoded data removed]",
      "text/plain": [
       "<Figure size 640x480 with 2 Axes>"
      ]
     },
     "metadata": {},
     "output_type": "display_data"
    }
   ],
   "source": [
    "plt.imshow(temp[:,:].squeeze(), aspect='auto', origin='lower', interpolation='none')\n",
    "plt.colorbar()\n",
    "plt.show()\n"
   ]
  },
  {
   "cell_type": "code",
   "execution_count": 115,
   "metadata": {},
   "outputs": [
    {
     "name": "stdout",
     "output_type": "stream",
     "text": [
      "[ 7  6  5  1  4  9 10  3  8  2]\n"
     ]
    }
   ],
   "source": [
    "import numpy as np\n",
    "\n",
    "# Set the seed for reproducibility\n",
    "np.random.seed(42)\n",
    "\n",
    "# Generate random numbers and use them to shuffle the array\n",
    "array = np.arange(1, 11)  # Create an array [1, 2, ..., 10]\n",
    "random_numbers = np.random.rand(len(array))\n",
    "sort_idx = np.argsort(random_numbers)\n",
    "shuffled_array = array[sort_idx]\n",
    "\n",
    "print(shuffled_array)"
   ]
  },
  {
   "cell_type": "code",
   "execution_count": 96,
   "metadata": {},
   "outputs": [
    {
     "data": {
      "text/plain": [
       "(128, 400)"
      ]
     },
     "execution_count": 96,
     "metadata": {},
     "output_type": "execute_result"
    }
   ],
   "source": [
    "temp.squeeze().shape"
   ]
  },
  {
   "cell_type": "code",
   "execution_count": 16,
   "metadata": {},
   "outputs": [
    {
     "name": "stdout",
     "output_type": "stream",
     "text": [
      "dict_keys(['__header__', '__version__', '__globals__', 'setname', 'filename', 'filepath', 'subject', 'group', 'condition', 'session', 'comments', 'nbchan', 'trials', 'pnts', 'srate', 'xmin', 'xmax', 'times', 'data', 'icaact', 'icawinv', 'icasphere', 'icaweights', 'icachansind', 'chanlocs', 'urchanlocs', 'chaninfo', 'ref', 'event', 'urevent', 'eventdescription', 'epoch', 'epochdescription', 'reject', 'stats', 'specdata', 'specicaact', 'splinefile', 'icasplinefile', 'dipfit', 'history', 'saved', 'etc', 'datfile', 'run', 'roi'])\n",
      "dict_keys(['__header__', '__version__', '__globals__', 'setname', 'filename', 'filepath', 'subject', 'group', 'condition', 'session', 'comments', 'nbchan', 'trials', 'pnts', 'srate', 'xmin', 'xmax', 'times', 'data', 'icaact', 'icawinv', 'icasphere', 'icaweights', 'icachansind', 'chanlocs', 'urchanlocs', 'chaninfo', 'ref', 'event', 'urevent', 'eventdescription', 'epoch', 'epochdescription', 'reject', 'stats', 'specdata', 'specicaact', 'splinefile', 'icasplinefile', 'dipfit', 'history', 'saved', 'etc', 'datfile', 'run', 'roi'])\n"
     ]
    },
    {
     "name": "stderr",
     "output_type": "stream",
     "text": [
      "/Users/arno/Python/iclabel/pop_loadset.py:39: VisibleDeprecationWarning: Creating an ndarray from ragged nested sequences (which is a list-or-tuple of lists-or-tuples-or ndarrays with different lengths or shapes) is deprecated. If you meant to do this, you must specify 'dtype=object' when creating the ndarray.\n",
      "  return np.array([new_check(item) for item in obj])\n"
     ]
    },
    {
     "ename": "FileNotFoundError",
     "evalue": "[Errno 2] No such file or directory: 'var.mat'",
     "output_type": "error",
     "traceback": [
      "\u001b[0;31m---------------------------------------------------------------------------\u001b[0m",
      "\u001b[0;31mFileNotFoundError\u001b[0m                         Traceback (most recent call last)",
      "File \u001b[0;32m~/miniconda3/envs/p311env/lib/python3.11/site-packages/scipy/io/matlab/_mio.py:39\u001b[0m, in \u001b[0;36m_open_file\u001b[0;34m(file_like, appendmat, mode)\u001b[0m\n\u001b[1;32m     38\u001b[0m \u001b[38;5;28;01mtry\u001b[39;00m:\n\u001b[0;32m---> 39\u001b[0m     \u001b[38;5;28;01mreturn\u001b[39;00m \u001b[38;5;28mopen\u001b[39m(file_like, mode), \u001b[38;5;28;01mTrue\u001b[39;00m\n\u001b[1;32m     40\u001b[0m \u001b[38;5;28;01mexcept\u001b[39;00m \u001b[38;5;167;01mOSError\u001b[39;00m \u001b[38;5;28;01mas\u001b[39;00m e:\n\u001b[1;32m     41\u001b[0m     \u001b[38;5;66;03m# Probably \"not found\"\u001b[39;00m\n",
      "\u001b[0;31mFileNotFoundError\u001b[0m: [Errno 2] No such file or directory: 'var.mat'",
      "\nDuring handling of the above exception, another exception occurred:\n",
      "\u001b[0;31mFileNotFoundError\u001b[0m                         Traceback (most recent call last)",
      "Cell \u001b[0;32mIn[16], line 6\u001b[0m\n\u001b[1;32m      3\u001b[0m importlib\u001b[38;5;241m.\u001b[39mreload(pop_loadset)  \u001b[38;5;66;03m# Step 3: Reload the library to reflect the changes\u001b[39;00m\n\u001b[1;32m      4\u001b[0m \u001b[38;5;28;01mfrom\u001b[39;00m \u001b[38;5;21;01mpop_loadset\u001b[39;00m \u001b[38;5;28;01mimport\u001b[39;00m pop_loadset\n\u001b[0;32m----> 6\u001b[0m var \u001b[38;5;241m=\u001b[39m pop_loadset(\u001b[38;5;124m'\u001b[39m\u001b[38;5;124mvar.mat\u001b[39m\u001b[38;5;124m'\u001b[39m)\n\u001b[1;32m      7\u001b[0m var[\u001b[38;5;124m'\u001b[39m\u001b[38;5;124mtest\u001b[39m\u001b[38;5;124m'\u001b[39m][\u001b[38;5;241m2\u001b[39m]\n",
      "File \u001b[0;32m~/Python/iclabel/pop_loadset.py:19\u001b[0m, in \u001b[0;36mpop_loadset\u001b[0;34m(file_path)\u001b[0m\n\u001b[1;32m     17\u001b[0m \u001b[38;5;28;01mdef\u001b[39;00m \u001b[38;5;21mpop_loadset\u001b[39m(file_path):\n\u001b[1;32m     18\u001b[0m     \u001b[38;5;66;03m# Load MATLAB file\u001b[39;00m\n\u001b[0;32m---> 19\u001b[0m     EEG \u001b[38;5;241m=\u001b[39m scipy\u001b[38;5;241m.\u001b[39mio\u001b[38;5;241m.\u001b[39mloadmat(file_path, struct_as_record\u001b[38;5;241m=\u001b[39m\u001b[38;5;28;01mFalse\u001b[39;00m, squeeze_me\u001b[38;5;241m=\u001b[39m\u001b[38;5;28;01mTrue\u001b[39;00m)\n\u001b[1;32m     21\u001b[0m     \u001b[38;5;28;01mdef\u001b[39;00m \u001b[38;5;21mnew_check\u001b[39m(obj):\n\u001b[1;32m     22\u001b[0m         \u001b[38;5;66;03m# check if obj is a dictionary and apply recursively the function to each object not changing the struture of the dictionary\u001b[39;00m\n\u001b[1;32m     23\u001b[0m         \u001b[38;5;28;01mif\u001b[39;00m \u001b[38;5;28misinstance\u001b[39m(obj, \u001b[38;5;28mdict\u001b[39m):\n",
      "File \u001b[0;32m~/miniconda3/envs/p311env/lib/python3.11/site-packages/scipy/io/matlab/_mio.py:225\u001b[0m, in \u001b[0;36mloadmat\u001b[0;34m(file_name, mdict, appendmat, **kwargs)\u001b[0m\n\u001b[1;32m     88\u001b[0m \u001b[38;5;250m\u001b[39m\u001b[38;5;124;03m\"\"\"\u001b[39;00m\n\u001b[1;32m     89\u001b[0m \u001b[38;5;124;03mLoad MATLAB file.\u001b[39;00m\n\u001b[1;32m     90\u001b[0m \n\u001b[0;32m   (...)\u001b[0m\n\u001b[1;32m    222\u001b[0m \u001b[38;5;124;03m    3.14159265+3.14159265j])\u001b[39;00m\n\u001b[1;32m    223\u001b[0m \u001b[38;5;124;03m\"\"\"\u001b[39;00m\n\u001b[1;32m    224\u001b[0m variable_names \u001b[38;5;241m=\u001b[39m kwargs\u001b[38;5;241m.\u001b[39mpop(\u001b[38;5;124m'\u001b[39m\u001b[38;5;124mvariable_names\u001b[39m\u001b[38;5;124m'\u001b[39m, \u001b[38;5;28;01mNone\u001b[39;00m)\n\u001b[0;32m--> 225\u001b[0m \u001b[38;5;28;01mwith\u001b[39;00m _open_file_context(file_name, appendmat) \u001b[38;5;28;01mas\u001b[39;00m f:\n\u001b[1;32m    226\u001b[0m     MR, _ \u001b[38;5;241m=\u001b[39m mat_reader_factory(f, \u001b[38;5;241m*\u001b[39m\u001b[38;5;241m*\u001b[39mkwargs)\n\u001b[1;32m    227\u001b[0m     matfile_dict \u001b[38;5;241m=\u001b[39m MR\u001b[38;5;241m.\u001b[39mget_variables(variable_names)\n",
      "File \u001b[0;32m~/miniconda3/envs/p311env/lib/python3.11/contextlib.py:137\u001b[0m, in \u001b[0;36m_GeneratorContextManager.__enter__\u001b[0;34m(self)\u001b[0m\n\u001b[1;32m    135\u001b[0m \u001b[38;5;28;01mdel\u001b[39;00m \u001b[38;5;28mself\u001b[39m\u001b[38;5;241m.\u001b[39margs, \u001b[38;5;28mself\u001b[39m\u001b[38;5;241m.\u001b[39mkwds, \u001b[38;5;28mself\u001b[39m\u001b[38;5;241m.\u001b[39mfunc\n\u001b[1;32m    136\u001b[0m \u001b[38;5;28;01mtry\u001b[39;00m:\n\u001b[0;32m--> 137\u001b[0m     \u001b[38;5;28;01mreturn\u001b[39;00m \u001b[38;5;28mnext\u001b[39m(\u001b[38;5;28mself\u001b[39m\u001b[38;5;241m.\u001b[39mgen)\n\u001b[1;32m    138\u001b[0m \u001b[38;5;28;01mexcept\u001b[39;00m \u001b[38;5;167;01mStopIteration\u001b[39;00m:\n\u001b[1;32m    139\u001b[0m     \u001b[38;5;28;01mraise\u001b[39;00m \u001b[38;5;167;01mRuntimeError\u001b[39;00m(\u001b[38;5;124m\"\u001b[39m\u001b[38;5;124mgenerator didn\u001b[39m\u001b[38;5;124m'\u001b[39m\u001b[38;5;124mt yield\u001b[39m\u001b[38;5;124m\"\u001b[39m) \u001b[38;5;28;01mfrom\u001b[39;00m \u001b[38;5;28;01mNone\u001b[39;00m\n",
      "File \u001b[0;32m~/miniconda3/envs/p311env/lib/python3.11/site-packages/scipy/io/matlab/_mio.py:17\u001b[0m, in \u001b[0;36m_open_file_context\u001b[0;34m(file_like, appendmat, mode)\u001b[0m\n\u001b[1;32m     15\u001b[0m \u001b[38;5;129m@contextmanager\u001b[39m\n\u001b[1;32m     16\u001b[0m \u001b[38;5;28;01mdef\u001b[39;00m \u001b[38;5;21m_open_file_context\u001b[39m(file_like, appendmat, mode\u001b[38;5;241m=\u001b[39m\u001b[38;5;124m'\u001b[39m\u001b[38;5;124mrb\u001b[39m\u001b[38;5;124m'\u001b[39m):\n\u001b[0;32m---> 17\u001b[0m     f, opened \u001b[38;5;241m=\u001b[39m _open_file(file_like, appendmat, mode)\n\u001b[1;32m     18\u001b[0m     \u001b[38;5;28;01mtry\u001b[39;00m:\n\u001b[1;32m     19\u001b[0m         \u001b[38;5;28;01myield\u001b[39;00m f\n",
      "File \u001b[0;32m~/miniconda3/envs/p311env/lib/python3.11/site-packages/scipy/io/matlab/_mio.py:45\u001b[0m, in \u001b[0;36m_open_file\u001b[0;34m(file_like, appendmat, mode)\u001b[0m\n\u001b[1;32m     43\u001b[0m     \u001b[38;5;28;01mif\u001b[39;00m appendmat \u001b[38;5;129;01mand\u001b[39;00m \u001b[38;5;129;01mnot\u001b[39;00m file_like\u001b[38;5;241m.\u001b[39mendswith(\u001b[38;5;124m'\u001b[39m\u001b[38;5;124m.mat\u001b[39m\u001b[38;5;124m'\u001b[39m):\n\u001b[1;32m     44\u001b[0m         file_like \u001b[38;5;241m+\u001b[39m\u001b[38;5;241m=\u001b[39m \u001b[38;5;124m'\u001b[39m\u001b[38;5;124m.mat\u001b[39m\u001b[38;5;124m'\u001b[39m\n\u001b[0;32m---> 45\u001b[0m     \u001b[38;5;28;01mreturn\u001b[39;00m \u001b[38;5;28mopen\u001b[39m(file_like, mode), \u001b[38;5;28;01mTrue\u001b[39;00m\n\u001b[1;32m     46\u001b[0m \u001b[38;5;28;01melse\u001b[39;00m:\n\u001b[1;32m     47\u001b[0m     \u001b[38;5;28;01mraise\u001b[39;00m \u001b[38;5;167;01mOSError\u001b[39;00m(\n\u001b[1;32m     48\u001b[0m         \u001b[38;5;124m'\u001b[39m\u001b[38;5;124mReader needs file name or open file-like object\u001b[39m\u001b[38;5;124m'\u001b[39m\n\u001b[1;32m     49\u001b[0m     ) \u001b[38;5;28;01mfrom\u001b[39;00m \u001b[38;5;21;01me\u001b[39;00m\n",
      "\u001b[0;31mFileNotFoundError\u001b[0m: [Errno 2] No such file or directory: 'var.mat'"
     ]
    }
   ],
   "source": [
    "import pop_loadset\n",
    "import importlib\n",
    "importlib.reload(pop_loadset)  # Step 3: Reload the library to reflect the changes\n",
    "from pop_loadset import pop_loadset\n",
    "\n",
    "var = pop_loadset('var.mat')\n",
    "var['test'][2]"
   ]
  },
  {
   "cell_type": "code",
   "execution_count": 71,
   "metadata": {},
   "outputs": [
    {
     "name": "stderr",
     "output_type": "stream",
     "text": [
      "/Users/arno/Python/iclabel/pop_loadset.py:39: VisibleDeprecationWarning: Creating an ndarray from ragged nested sequences (which is a list-or-tuple of lists-or-tuples-or ndarrays with different lengths or shapes) is deprecated. If you meant to do this, you must specify 'dtype=object' when creating the ndarray.\n",
      "  return np.array([new_check(item) for item in obj])\n"
     ]
    },
    {
     "ename": "AttributeError",
     "evalue": "'dict' object has no attribute 'dtype'",
     "output_type": "error",
     "traceback": [
      "\u001b[0;31m---------------------------------------------------------------------------\u001b[0m",
      "\u001b[0;31mAttributeError\u001b[0m                            Traceback (most recent call last)",
      "Cell \u001b[0;32mIn[71], line 23\u001b[0m\n\u001b[1;32m     20\u001b[0m \u001b[38;5;28;01mimport\u001b[39;00m \u001b[38;5;21;01mscipy\u001b[39;00m\u001b[38;5;21;01m.\u001b[39;00m\u001b[38;5;21;01mio\u001b[39;00m\n\u001b[1;32m     21\u001b[0m scipy\u001b[38;5;241m.\u001b[39mio\u001b[38;5;241m.\u001b[39msavemat(\u001b[38;5;124m'\u001b[39m\u001b[38;5;124mEEG2.mat\u001b[39m\u001b[38;5;124m'\u001b[39m, EEG)\n\u001b[0;32m---> 23\u001b[0m EEG[\u001b[38;5;124m'\u001b[39m\u001b[38;5;124mevent\u001b[39m\u001b[38;5;124m'\u001b[39m][\u001b[38;5;241m0\u001b[39m]\u001b[38;5;241m.\u001b[39mdtype\n",
      "\u001b[0;31mAttributeError\u001b[0m: 'dict' object has no attribute 'dtype'"
     ]
    }
   ],
   "source": [
    "import pop_loadset\n",
    "import importlib\n",
    "importlib.reload(pop_loadset)  # Step 3: Reload the library to reflect the changes\n",
    "from pop_loadset import pop_loadset\n",
    "import numpy as np\n",
    "from scipy.signal import resample\n",
    "from numpy.fft import fft, ifft\n",
    "import matplotlib.pyplot as plt\n",
    "\n",
    "\n",
    "\n",
    "eeglab_file_path = './eeglab_data_with_ica_tmp.set'\n",
    "EEG = pop_loadset(eeglab_file_path)\n",
    "\n",
    "\n",
    "# convert EEG['event'] to list\n",
    "EEG['event'] = EEG['event'].tolist()\n",
    "\n",
    "# save EEG dictionary as a .mat file\n",
    "import scipy.io\n",
    "scipy.io.savemat('EEG2.mat', EEG)\n",
    "\n",
    "EEG['event'][0]\n",
    "\n",
    "# create np.dtype for the structured array EEG['event'] in a general way scanning all event fields\n",
    "dtype = np.dtype([(key, 'O') for key in EEG['event'][0].keys()])\n",
    "\n",
    "\n",
    "\n"
   ]
  },
  {
   "cell_type": "code",
   "execution_count": 36,
   "metadata": {},
   "outputs": [
    {
     "data": {
      "text/plain": [
       "array([0, 2, 4, 6, 8])"
      ]
     },
     "execution_count": 36,
     "metadata": {},
     "output_type": "execute_result"
    }
   ],
   "source": [
    "from eeg_mne2eeglab import eeg_mne2eeglab\n",
    "\n",
    "np.arange(0, 10, 2)"
   ]
  },
  {
   "cell_type": "code",
   "execution_count": 30,
   "metadata": {},
   "outputs": [
    {
     "name": "stderr",
     "output_type": "stream",
     "text": [
      "/Users/arno/Python/iclabel/pop_loadset.py:39: VisibleDeprecationWarning: Creating an ndarray from ragged nested sequences (which is a list-or-tuple of lists-or-tuples-or ndarrays with different lengths or shapes) is deprecated. If you meant to do this, you must specify 'dtype=object' when creating the ndarray.\n",
      "  return np.array([new_check(item) for item in obj])\n"
     ]
    },
    {
     "ename": "ValueError",
     "evalue": "could not broadcast input array from shape (158,1024) into shape (1024,)",
     "output_type": "error",
     "traceback": [
      "\u001b[0;31m---------------------------------------------------------------------------\u001b[0m",
      "\u001b[0;31mValueError\u001b[0m                                Traceback (most recent call last)",
      "Cell \u001b[0;32mIn[30], line 59\u001b[0m\n\u001b[1;32m     57\u001b[0m \u001b[38;5;28;01mfor\u001b[39;00m it \u001b[38;5;129;01min\u001b[39;00m \u001b[38;5;28mrange\u001b[39m(ncomp):\n\u001b[1;32m     58\u001b[0m     fftpow \u001b[38;5;241m=\u001b[39m np\u001b[38;5;241m.\u001b[39mmean(np\u001b[38;5;241m.\u001b[39mabs(fft(segments[it, :, :], nfft, axis\u001b[38;5;241m=\u001b[39m\u001b[38;5;241m1\u001b[39m))\u001b[38;5;241m*\u001b[39m\u001b[38;5;241m*\u001b[39m\u001b[38;5;241m2\u001b[39m, axis\u001b[38;5;241m=\u001b[39m\u001b[38;5;241m2\u001b[39m)\n\u001b[0;32m---> 59\u001b[0m     ac[it, :] \u001b[38;5;241m=\u001b[39m np\u001b[38;5;241m.\u001b[39mreal(ifft(fftpow, axis\u001b[38;5;241m=\u001b[39m\u001b[38;5;241m0\u001b[39m))\n\u001b[1;32m     61\u001b[0m \u001b[38;5;66;03m# normalize\u001b[39;00m\n\u001b[1;32m     62\u001b[0m \u001b[38;5;28;01mif\u001b[39;00m EEG[\u001b[38;5;124m'\u001b[39m\u001b[38;5;124mpnts\u001b[39m\u001b[38;5;124m'\u001b[39m] \u001b[38;5;241m<\u001b[39m EEG[\u001b[38;5;124m'\u001b[39m\u001b[38;5;124msrate\u001b[39m\u001b[38;5;124m'\u001b[39m]:\n",
      "\u001b[0;31mValueError\u001b[0m: could not broadcast input array from shape (158,1024) into shape (1024,)"
     ]
    }
   ],
   "source": [
    "import numpy as np\n",
    "from scipy.signal import resample\n",
    "#from numpy.fft import fft, ifft\n",
    "from scipy.fft import fft, ifft\n",
    "import random\n",
    "import pop_loadset\n",
    "import importlib\n",
    "importlib.reload(pop_loadset)  # Step 3: Reload the library to reflect the changes\n",
    "from pop_loadset import pop_loadset\n",
    "import numpy as np\n",
    "from scipy.signal import resample\n",
    "from numpy.fft import fft, ifft\n",
    "import matplotlib.pyplot as plt\n",
    "import scipy.io\n",
    "\n",
    "eeglab_file_path = './eeglab_data_with_ica_tmp.set'\n",
    "#eeglab_file_path = '/System/Volumes/Data/data/matlab/eeglab/sample_data/eeglab_data_epochs_ica.set'\n",
    "EEG = pop_loadset(eeglab_file_path)\n",
    "#isinstance(EEG['chanlocs'][0], scipy.io.matlab._mio5_params.mat_struct)\n",
    "\n",
    "# EEG = {\n",
    "#     'srate': 256,\n",
    "#     'icaweights': np.random.randn(10, 256),\n",
    "#     'pnts': 1000,\n",
    "#     'trials': 5,\n",
    "#     'icaact': np.random.randn(10, 1000, 5)\n",
    "# }\n",
    "    \n",
    "pct_data = None\n",
    "\n",
    "#def eeg_autocorr_welch(EEG, pct_data=100):\n",
    "if pct_data is None or pct_data == 0:\n",
    "    # clean input cutoff freq\n",
    "    if pct_data is None or pct_data == 0:\n",
    "        pct_data = 100\n",
    "    \n",
    "    # setup constants\n",
    "    ncomp = EEG['icaweights'].shape[0]\n",
    "    n_points = min(EEG['pnts'], EEG['srate'] * 3)\n",
    "    nfft = 2**(int(np.log2(n_points * 2 - 1)) + 1)\n",
    "    cutoff = (EEG['pnts'] // n_points) * n_points\n",
    "    index = np.add.outer(np.ceil(np.arange(0, cutoff - n_points, n_points // 2)).astype(int), np.arange(n_points)).astype(int)\n",
    "    \n",
    "    # separate data segments\n",
    "    if pct_data != 100:\n",
    "        random.seed(0)\n",
    "        n_seg = index.shape[0] * EEG['trials']\n",
    "        subset = random.sample(range(n_seg), int(np.ceil(n_seg * pct_data / 100)))\n",
    "        random.seed()  # restore normal random behavior\n",
    "        temp = np.reshape(EEG['icaact'][:, index, :], (ncomp, *index.shape, EEG['trials']))\n",
    "        segments = temp[:, :, subset]\n",
    "    else:\n",
    "        segments = np.reshape(EEG['icaact'][:, index, :], (ncomp, *index.shape, EEG['trials']))\n",
    "    \n",
    "    # calc autocorrelation\n",
    "    ac = np.zeros((ncomp, nfft))\n",
    "    for it in range(ncomp):\n",
    "        fftpow = np.mean(np.abs(fft(segments[it, :, :], nfft, axis=1))**2, axis=2)\n",
    "        ac[it, :] = np.real(ifft(fftpow, axis=0))\n",
    "    \n",
    "    # normalize\n",
    "    if EEG['pnts'] < EEG['srate']:\n",
    "        ac = np.concatenate([ac[:, :EEG['pnts']] / (ac[:, 0][:, np.newaxis] * np.arange(n_points, 0, -1) / n_points), \n",
    "                             np.zeros((ncomp, EEG['srate'] - n_points + 1))], axis=1)\n",
    "    else:\n",
    "        ac = ac[:, :EEG['srate'] + 1] / (ac[:, 0][:, np.newaxis] * np.concatenate([np.arange(n_points, n_points - EEG['srate'], -1), \n",
    "                                                                                   [max(1, n_points - EEG['srate'])]] / n_points))\n",
    "    \n",
    "    # resample to 1 second at 100 samples/sec\n",
    "    ac = resample(ac.T, 100, axis=0).T\n",
    "    ac = ac[:, 1:101]\n",
    "   \n",
    "    # resample to 1 second at 100 samples/sec\n",
    "    ac = resample(ac.T, 100, axis=0).T\n",
    "    ac = ac[:, 1:101]\n",
    "    \n",
    "    #return ac\n",
    "\n",
    "# Assuming EEG class or data structure is defined with appropriate fields\n",
    "# Example usage:\n",
    "# ac = eeg_autocorr_welch(EEG, pct_data=50)\n",
    "    # print information about psdmed\n",
    "   \n",
    "    \n",
    "    #assert psdmed.shape == (10, 100)\n",
    "    #assert np.all(np.isfinite(psdmed))\n",
    "\n",
    "#test_eeg_autocorr()"
   ]
  },
  {
   "cell_type": "code",
   "execution_count": 3,
   "metadata": {},
   "outputs": [
    {
     "name": "stdout",
     "output_type": "stream",
     "text": [
      "101\n"
     ]
    }
   ],
   "source": [
    "import numpy as np\n",
    "from scipy.signal import resample_poly\n",
    "\n",
    "# Generate random numbers between 69 and 251\n",
    "ac = np.random.randint(69, 251, size=(251,))  # 251 samples as in MATLAB\n",
    "\n",
    "# Resample to match MATLAB's behavior\n",
    "resamp = resample_poly(ac, up=100, down=250)\n",
    "\n",
    "# Get the size of the resampled array\n",
    "size_resamp = resamp.shape[0]\n",
    "\n",
    "print(size_resamp)  # Should be 101"
   ]
  },
  {
   "cell_type": "code",
   "execution_count": 21,
   "metadata": {},
   "outputs": [
    {
     "name": "stdout",
     "output_type": "stream",
     "text": [
      "Unexpected exception formatting exception. Falling back to standard exception\n"
     ]
    },
    {
     "name": "stderr",
     "output_type": "stream",
     "text": [
      "Traceback (most recent call last):\n",
      "  File \"/Users/arno/miniconda3/envs/p311env/lib/python3.11/site-packages/IPython/core/interactiveshell.py\", line 3460, in run_code\n",
      "    exec(code_obj, self.user_global_ns, self.user_ns)\n",
      "  File \"/var/folders/3j/r_x6gj790wvcx_mh157ctypm0000gn/T/ipykernel_5325/460132573.py\", line 13, in <module>\n",
      "    EEG = pop_loadset(eeglab_file_path)\n",
      "          ^^^^^^^^^^^^^^^^^^^^^^^^^^^^^\n",
      "  File \"/Users/arno/Python/iclabel/pop_loadset.py\", line 95, in pop_loadset\n",
      "    EEG['icaact'] = np.dot(np.dot(EEG['icaweights'], EEG['icasphere']), EEG['data'].reshape(EEG['nbchan'], -1))\n",
      "                           ^^^^^^^^^^^^^^^^^^^^^^^^^^^^^^^^^^^^^^^^^^^\n",
      "  File \"<__array_function__ internals>\", line 180, in dot\n",
      "TypeError: unsupported operand type(s) for *: 'NoneType' and 'NoneType'\n",
      "\n",
      "During handling of the above exception, another exception occurred:\n",
      "\n",
      "Traceback (most recent call last):\n",
      "  File \"/Users/arno/miniconda3/envs/p311env/lib/python3.11/site-packages/IPython/core/interactiveshell.py\", line 2057, in showtraceback\n",
      "    stb = self.InteractiveTB.structured_traceback(\n",
      "          ^^^^^^^^^^^^^^^^^^^^^^^^^^^^^^^^^^^^^^^^\n",
      "  File \"/Users/arno/miniconda3/envs/p311env/lib/python3.11/site-packages/IPython/core/ultratb.py\", line 1118, in structured_traceback\n",
      "    return FormattedTB.structured_traceback(\n",
      "           ^^^^^^^^^^^^^^^^^^^^^^^^^^^^^^^^^\n",
      "  File \"/Users/arno/miniconda3/envs/p311env/lib/python3.11/site-packages/IPython/core/ultratb.py\", line 1012, in structured_traceback\n",
      "    return VerboseTB.structured_traceback(\n",
      "           ^^^^^^^^^^^^^^^^^^^^^^^^^^^^^^^\n",
      "  File \"/Users/arno/miniconda3/envs/p311env/lib/python3.11/site-packages/IPython/core/ultratb.py\", line 865, in structured_traceback\n",
      "    formatted_exception = self.format_exception_as_a_whole(etype, evalue, etb, number_of_lines_of_context,\n",
      "                          ^^^^^^^^^^^^^^^^^^^^^^^^^^^^^^^^^^^^^^^^^^^^^^^^^^^^^^^^^^^^^^^^^^^^^^^^^^^^^^^^\n",
      "  File \"/Users/arno/miniconda3/envs/p311env/lib/python3.11/site-packages/IPython/core/ultratb.py\", line 818, in format_exception_as_a_whole\n",
      "    frames.append(self.format_record(r))\n",
      "                  ^^^^^^^^^^^^^^^^^^^^^\n",
      "  File \"/Users/arno/miniconda3/envs/p311env/lib/python3.11/site-packages/IPython/core/ultratb.py\", line 736, in format_record\n",
      "    result += ''.join(_format_traceback_lines(frame_info.lines, Colors, self.has_colors, lvals))\n",
      "                                              ^^^^^^^^^^^^^^^^\n",
      "  File \"/Users/arno/miniconda3/envs/p311env/lib/python3.11/site-packages/stack_data/utils.py\", line 145, in cached_property_wrapper\n",
      "    value = obj.__dict__[self.func.__name__] = self.func(obj)\n",
      "                                               ^^^^^^^^^^^^^^\n",
      "  File \"/Users/arno/miniconda3/envs/p311env/lib/python3.11/site-packages/stack_data/core.py\", line 698, in lines\n",
      "    pieces = self.included_pieces\n",
      "             ^^^^^^^^^^^^^^^^^^^^\n",
      "  File \"/Users/arno/miniconda3/envs/p311env/lib/python3.11/site-packages/stack_data/utils.py\", line 145, in cached_property_wrapper\n",
      "    value = obj.__dict__[self.func.__name__] = self.func(obj)\n",
      "                                               ^^^^^^^^^^^^^^\n",
      "  File \"/Users/arno/miniconda3/envs/p311env/lib/python3.11/site-packages/stack_data/core.py\", line 649, in included_pieces\n",
      "    pos = scope_pieces.index(self.executing_piece)\n",
      "                             ^^^^^^^^^^^^^^^^^^^^\n",
      "  File \"/Users/arno/miniconda3/envs/p311env/lib/python3.11/site-packages/stack_data/utils.py\", line 145, in cached_property_wrapper\n",
      "    value = obj.__dict__[self.func.__name__] = self.func(obj)\n",
      "                                               ^^^^^^^^^^^^^^\n",
      "  File \"/Users/arno/miniconda3/envs/p311env/lib/python3.11/site-packages/stack_data/core.py\", line 628, in executing_piece\n",
      "    return only(\n",
      "           ^^^^^\n",
      "  File \"/Users/arno/miniconda3/envs/p311env/lib/python3.11/site-packages/executing/executing.py\", line 164, in only\n",
      "    raise NotOneValueFound('Expected one value, found 0')\n",
      "executing.executing.NotOneValueFound: Expected one value, found 0\n"
     ]
    }
   ],
   "source": [
    "import pop_loadset\n",
    "import importlib\n",
    "importlib.reload(pop_loadset)  # Step 3: Reload the library to reflect the changes\n",
    "from pop_loadset import pop_loadset\n",
    "import numpy as np\n",
    "from scipy.signal import resample\n",
    "from numpy.fft import fft, ifft\n",
    "import matplotlib.pyplot as plt\n",
    "import scipy.io\n",
    "\n",
    "eeglab_file_path = './eeglab_data_with_ica_tmp.set'\n",
    "#eeglab_file_path = '/System/Volumes/Data/data/matlab/eeglab/sample_data/eeglab_data_epochs_ica.set'\n",
    "EEG = pop_loadset(eeglab_file_path)\n",
    "#isinstance(EEG['chanlocs'][0], scipy.io.matlab._mio5_params.mat_struct)\n",
    "\n",
    "EEG\n",
    "\n"
   ]
  },
  {
   "cell_type": "code",
   "execution_count": 22,
   "metadata": {},
   "outputs": [
    {
     "data": {
      "text/plain": [
       "array([[  0,  63, 125, 188, 250],\n",
       "       [  1,  64, 126, 189, 251],\n",
       "       [  2,  65, 127, 190, 252],\n",
       "       [  3,  66, 128, 191, 253],\n",
       "       [  4,  67, 129, 192, 254],\n",
       "       [  5,  68, 130, 193, 255],\n",
       "       [  6,  69, 131, 194, 256],\n",
       "       [  7,  70, 132, 195, 257],\n",
       "       [  8,  71, 133, 196, 258],\n",
       "       [  9,  72, 134, 197, 259],\n",
       "       [ 10,  73, 135, 198, 260],\n",
       "       [ 11,  74, 136, 199, 261],\n",
       "       [ 12,  75, 137, 200, 262],\n",
       "       [ 13,  76, 138, 201, 263],\n",
       "       [ 14,  77, 139, 202, 264],\n",
       "       [ 15,  78, 140, 203, 265],\n",
       "       [ 16,  79, 141, 204, 266],\n",
       "       [ 17,  80, 142, 205, 267],\n",
       "       [ 18,  81, 143, 206, 268],\n",
       "       [ 19,  82, 144, 207, 269],\n",
       "       [ 20,  83, 145, 208, 270],\n",
       "       [ 21,  84, 146, 209, 271],\n",
       "       [ 22,  85, 147, 210, 272],\n",
       "       [ 23,  86, 148, 211, 273],\n",
       "       [ 24,  87, 149, 212, 274],\n",
       "       [ 25,  88, 150, 213, 275],\n",
       "       [ 26,  89, 151, 214, 276],\n",
       "       [ 27,  90, 152, 215, 277],\n",
       "       [ 28,  91, 153, 216, 278],\n",
       "       [ 29,  92, 154, 217, 279],\n",
       "       [ 30,  93, 155, 218, 280],\n",
       "       [ 31,  94, 156, 219, 281],\n",
       "       [ 32,  95, 157, 220, 282],\n",
       "       [ 33,  96, 158, 221, 283],\n",
       "       [ 34,  97, 159, 222, 284],\n",
       "       [ 35,  98, 160, 223, 285],\n",
       "       [ 36,  99, 161, 224, 286],\n",
       "       [ 37, 100, 162, 225, 287],\n",
       "       [ 38, 101, 163, 226, 288],\n",
       "       [ 39, 102, 164, 227, 289],\n",
       "       [ 40, 103, 165, 228, 290],\n",
       "       [ 41, 104, 166, 229, 291],\n",
       "       [ 42, 105, 167, 230, 292],\n",
       "       [ 43, 106, 168, 231, 293],\n",
       "       [ 44, 107, 169, 232, 294],\n",
       "       [ 45, 108, 170, 233, 295],\n",
       "       [ 46, 109, 171, 234, 296],\n",
       "       [ 47, 110, 172, 235, 297],\n",
       "       [ 48, 111, 173, 236, 298],\n",
       "       [ 49, 112, 174, 237, 299],\n",
       "       [ 50, 113, 175, 238, 300],\n",
       "       [ 51, 114, 176, 239, 301],\n",
       "       [ 52, 115, 177, 240, 302],\n",
       "       [ 53, 116, 178, 241, 303],\n",
       "       [ 54, 117, 179, 242, 304],\n",
       "       [ 55, 118, 180, 243, 305],\n",
       "       [ 56, 119, 181, 244, 306],\n",
       "       [ 57, 120, 182, 245, 307],\n",
       "       [ 58, 121, 183, 246, 308],\n",
       "       [ 59, 122, 184, 247, 309],\n",
       "       [ 60, 123, 185, 248, 310],\n",
       "       [ 61, 124, 186, 249, 311],\n",
       "       [ 62, 125, 187, 250, 312],\n",
       "       [ 63, 126, 188, 251, 313],\n",
       "       [ 64, 127, 189, 252, 314],\n",
       "       [ 65, 128, 190, 253, 315],\n",
       "       [ 66, 129, 191, 254, 316],\n",
       "       [ 67, 130, 192, 255, 317],\n",
       "       [ 68, 131, 193, 256, 318],\n",
       "       [ 69, 132, 194, 257, 319],\n",
       "       [ 70, 133, 195, 258, 320],\n",
       "       [ 71, 134, 196, 259, 321],\n",
       "       [ 72, 135, 197, 260, 322],\n",
       "       [ 73, 136, 198, 261, 323],\n",
       "       [ 74, 137, 199, 262, 324],\n",
       "       [ 75, 138, 200, 263, 325],\n",
       "       [ 76, 139, 201, 264, 326],\n",
       "       [ 77, 140, 202, 265, 327],\n",
       "       [ 78, 141, 203, 266, 328],\n",
       "       [ 79, 142, 204, 267, 329],\n",
       "       [ 80, 143, 205, 268, 330],\n",
       "       [ 81, 144, 206, 269, 331],\n",
       "       [ 82, 145, 207, 270, 332],\n",
       "       [ 83, 146, 208, 271, 333],\n",
       "       [ 84, 147, 209, 272, 334],\n",
       "       [ 85, 148, 210, 273, 335],\n",
       "       [ 86, 149, 211, 274, 336],\n",
       "       [ 87, 150, 212, 275, 337],\n",
       "       [ 88, 151, 213, 276, 338],\n",
       "       [ 89, 152, 214, 277, 339],\n",
       "       [ 90, 153, 215, 278, 340],\n",
       "       [ 91, 154, 216, 279, 341],\n",
       "       [ 92, 155, 217, 280, 342],\n",
       "       [ 93, 156, 218, 281, 343],\n",
       "       [ 94, 157, 219, 282, 344],\n",
       "       [ 95, 158, 220, 283, 345],\n",
       "       [ 96, 159, 221, 284, 346],\n",
       "       [ 97, 160, 222, 285, 347],\n",
       "       [ 98, 161, 223, 286, 348],\n",
       "       [ 99, 162, 224, 287, 349],\n",
       "       [100, 163, 225, 288, 350],\n",
       "       [101, 164, 226, 289, 351],\n",
       "       [102, 165, 227, 290, 352],\n",
       "       [103, 166, 228, 291, 353],\n",
       "       [104, 167, 229, 292, 354],\n",
       "       [105, 168, 230, 293, 355],\n",
       "       [106, 169, 231, 294, 356],\n",
       "       [107, 170, 232, 295, 357],\n",
       "       [108, 171, 233, 296, 358],\n",
       "       [109, 172, 234, 297, 359],\n",
       "       [110, 173, 235, 298, 360],\n",
       "       [111, 174, 236, 299, 361],\n",
       "       [112, 175, 237, 300, 362],\n",
       "       [113, 176, 238, 301, 363],\n",
       "       [114, 177, 239, 302, 364],\n",
       "       [115, 178, 240, 303, 365],\n",
       "       [116, 179, 241, 304, 366],\n",
       "       [117, 180, 242, 305, 367],\n",
       "       [118, 181, 243, 306, 368],\n",
       "       [119, 182, 244, 307, 369],\n",
       "       [120, 183, 245, 308, 370],\n",
       "       [121, 184, 246, 309, 371],\n",
       "       [122, 185, 247, 310, 372],\n",
       "       [123, 186, 248, 311, 373],\n",
       "       [124, 187, 249, 312, 374]])"
      ]
     },
     "execution_count": 22,
     "metadata": {},
     "output_type": "execute_result"
    }
   ],
   "source": [
    "import numpy as np\n",
    "\n",
    "cutoff = 375\n",
    "n_points = 125\n",
    "index = np.add.outer(np.arange(0, cutoff - n_points//2 + 1, n_points // 2), np.arange(0, n_points)).astype(int).transpose()\n",
    "index\n",
    "np.ceil(np.arange(0, cutoff - n_points + 1, n_points/2)).astype(int)\n",
    "index = np.add.outer(np.ceil(np.arange(0, cutoff - n_points + 1, n_points/2)).astype(int), np.arange(0, n_points)).astype(int).transpose()\n",
    "index\n",
    "\n"
   ]
  },
  {
   "cell_type": "code",
   "execution_count": 21,
   "metadata": {},
   "outputs": [
    {
     "ename": "IndexError",
     "evalue": "index 3 is out of bounds for axis 0 with size 3",
     "output_type": "error",
     "traceback": [
      "\u001b[0;31m---------------------------------------------------------------------------\u001b[0m",
      "\u001b[0;31mIndexError\u001b[0m                                Traceback (most recent call last)",
      "Cell \u001b[0;32mIn[21], line 2\u001b[0m\n\u001b[1;32m      1\u001b[0m data \u001b[38;5;241m=\u001b[39m scipy\u001b[38;5;241m.\u001b[39mio\u001b[38;5;241m.\u001b[39mloadmat(\u001b[38;5;124m'\u001b[39m\u001b[38;5;124mpython_temp.mat\u001b[39m\u001b[38;5;124m'\u001b[39m)\n\u001b[0;32m----> 2\u001b[0m data[\u001b[38;5;124m'\u001b[39m\u001b[38;5;124mgrid\u001b[39m\u001b[38;5;124m'\u001b[39m][\u001b[38;5;241m0\u001b[39m][\u001b[38;5;241m3\u001b[39m]\n",
      "\u001b[0;31mIndexError\u001b[0m: index 3 is out of bounds for axis 0 with size 3"
     ]
    }
   ],
   "source": [
    "data = scipy.io.loadmat('python_temp.mat')\n",
    "data['grid'][0][2]\n",
    "\n",
    "ic_classes = EEG['etc']['ic_classification']\\\n",
    "    ['ICLabel']['classifications']"
   ]
  },
  {
   "cell_type": "code",
   "execution_count": 6,
   "metadata": {},
   "outputs": [
    {
     "ename": "TypeError",
     "evalue": "'float' object cannot be interpreted as an integer",
     "output_type": "error",
     "traceback": [
      "\u001b[0;31m---------------------------------------------------------------------------\u001b[0m",
      "\u001b[0;31mTypeError\u001b[0m                                 Traceback (most recent call last)",
      "Cell \u001b[0;32mIn[6], line 6\u001b[0m\n\u001b[1;32m      4\u001b[0m eeglab_file_path \u001b[38;5;241m=\u001b[39m \u001b[38;5;124m'\u001b[39m\u001b[38;5;124m./tmp2.set\u001b[39m\u001b[38;5;124m'\u001b[39m\n\u001b[1;32m      5\u001b[0m \u001b[38;5;66;03m#eeglab_file_path = '/System/Volumes/Data/data/matlab/eeglab/sample_data/eeglab_data_epochs_ica.set'\u001b[39;00m\n\u001b[0;32m----> 6\u001b[0m EEG \u001b[38;5;241m=\u001b[39m pop_loadset(eeglab_file_path)\n",
      "File \u001b[0;32m~/Python/iclabel/pop_loadset.py:64\u001b[0m, in \u001b[0;36mpop_loadset\u001b[0;34m(file_path)\u001b[0m\n\u001b[1;32m     62\u001b[0m \u001b[38;5;66;03m# compute ICA activations\u001b[39;00m\n\u001b[1;32m     63\u001b[0m \u001b[38;5;28;01mif\u001b[39;00m \u001b[38;5;124m'\u001b[39m\u001b[38;5;124micaweights\u001b[39m\u001b[38;5;124m'\u001b[39m \u001b[38;5;129;01min\u001b[39;00m EEG \u001b[38;5;129;01mand\u001b[39;00m \u001b[38;5;124m'\u001b[39m\u001b[38;5;124micasphere\u001b[39m\u001b[38;5;124m'\u001b[39m \u001b[38;5;129;01min\u001b[39;00m EEG \u001b[38;5;129;01mand\u001b[39;00m EEG[\u001b[38;5;124m'\u001b[39m\u001b[38;5;124micaweights\u001b[39m\u001b[38;5;124m'\u001b[39m]\u001b[38;5;241m.\u001b[39msize \u001b[38;5;241m>\u001b[39m \u001b[38;5;241m0\u001b[39m \u001b[38;5;129;01mand\u001b[39;00m EEG[\u001b[38;5;124m'\u001b[39m\u001b[38;5;124micasphere\u001b[39m\u001b[38;5;124m'\u001b[39m]\u001b[38;5;241m.\u001b[39msize \u001b[38;5;241m>\u001b[39m \u001b[38;5;241m0\u001b[39m:\n\u001b[0;32m---> 64\u001b[0m     EEG[\u001b[38;5;124m'\u001b[39m\u001b[38;5;124micaact\u001b[39m\u001b[38;5;124m'\u001b[39m] \u001b[38;5;241m=\u001b[39m np\u001b[38;5;241m.\u001b[39mdot(np\u001b[38;5;241m.\u001b[39mdot(EEG[\u001b[38;5;124m'\u001b[39m\u001b[38;5;124micaweights\u001b[39m\u001b[38;5;124m'\u001b[39m], EEG[\u001b[38;5;124m'\u001b[39m\u001b[38;5;124micasphere\u001b[39m\u001b[38;5;124m'\u001b[39m]), EEG[\u001b[38;5;124m'\u001b[39m\u001b[38;5;124mdata\u001b[39m\u001b[38;5;124m'\u001b[39m]\u001b[38;5;241m.\u001b[39mreshape(EEG[\u001b[38;5;124m'\u001b[39m\u001b[38;5;124mnbchan\u001b[39m\u001b[38;5;124m'\u001b[39m], \u001b[38;5;241m-\u001b[39m\u001b[38;5;241m1\u001b[39m))\n\u001b[1;32m     65\u001b[0m     EEG[\u001b[38;5;124m'\u001b[39m\u001b[38;5;124micaact\u001b[39m\u001b[38;5;124m'\u001b[39m] \u001b[38;5;241m=\u001b[39m EEG[\u001b[38;5;124m'\u001b[39m\u001b[38;5;124micaact\u001b[39m\u001b[38;5;124m'\u001b[39m]\u001b[38;5;241m.\u001b[39mastype(np\u001b[38;5;241m.\u001b[39mfloat32)\n\u001b[1;32m     66\u001b[0m     EEG[\u001b[38;5;124m'\u001b[39m\u001b[38;5;124micaact\u001b[39m\u001b[38;5;124m'\u001b[39m] \u001b[38;5;241m=\u001b[39m EEG[\u001b[38;5;124m'\u001b[39m\u001b[38;5;124micaact\u001b[39m\u001b[38;5;124m'\u001b[39m]\u001b[38;5;241m.\u001b[39mreshape(EEG[\u001b[38;5;124m'\u001b[39m\u001b[38;5;124micaweights\u001b[39m\u001b[38;5;124m'\u001b[39m]\u001b[38;5;241m.\u001b[39mshape[\u001b[38;5;241m0\u001b[39m], \u001b[38;5;241m-\u001b[39m\u001b[38;5;241m1\u001b[39m, EEG[\u001b[38;5;124m'\u001b[39m\u001b[38;5;124mtrials\u001b[39m\u001b[38;5;124m'\u001b[39m])\n",
      "\u001b[0;31mTypeError\u001b[0m: 'float' object cannot be interpreted as an integer"
     ]
    }
   ],
   "source": [
    "from pop_loadset import pop_loadset\n",
    "\n",
    "# Create an in-memory bytes buffer\n",
    "eeglab_file_path = './tmp2.set'\n",
    "#eeglab_file_path = '/System/Volumes/Data/data/matlab/eeglab/sample_data/eeglab_data_epochs_ica.set'\n",
    "EEG = pop_loadset(eeglab_file_path)"
   ]
  },
  {
   "cell_type": "code",
   "execution_count": 1,
   "metadata": {},
   "outputs": [
    {
     "name": "stdout",
     "output_type": "stream",
     "text": [
      "Initial shapes:\n",
      "features[0]: (5, 5, 5, 5)\n",
      "features[1]: (5, 5, 5, 1)\n",
      "features[2]: (5, 5, 5, 1)\n",
      "features[0] shape after concatenation: (5, 5, 5, 20)\n",
      "features[1] shape after tiling: (5, 5, 5, 4)\n",
      "features[2] shape after tiling: (5, 5, 5, 4)\n",
      "features[0] dtype: float32\n",
      "features[1] dtype: float32\n",
      "features[2] dtype: float32\n"
     ]
    }
   ],
   "source": [
    "import numpy as np\n",
    "\n",
    "# Example initialization for features (mock data)\n",
    "features = [\n",
    "    np.random.rand(5, 5, 5, 5).astype(np.float32),  # Random 4D array\n",
    "    np.random.rand(5, 5, 5, 1).astype(np.float32),  # Random 4D array\n",
    "    np.random.rand(5, 5, 5, 1).astype(np.float32)   # Random 4D array\n",
    "]\n",
    "\n",
    "# Check initial shapes\n",
    "print(\"Initial shapes:\")\n",
    "for i, feature in enumerate(features):\n",
    "    print(f\"features[{i}]:\", feature.shape)\n",
    "\n",
    "# Equivalent of MATLAB code for features[0]\n",
    "features[0] = np.single(\n",
    "    np.concatenate([\n",
    "        features[0],                                   # Original array\n",
    "        -features[0],                                  # Negated array\n",
    "        features[0][:, ::-1, :, :],                    # Array with 2nd dimension reversed\n",
    "        -features[0][:, ::-1, :, :]                    # Negated reversed array\n",
    "    ], axis=3)                                         # Concatenate along the 4th dimension\n",
    ")\n",
    "print(\"features[0] shape after concatenation:\", features[0].shape)\n",
    "\n",
    "# Equivalent of MATLAB code for features[1]\n",
    "features[1] = np.single(\n",
    "    np.tile(features[1], (1, 1, 1, 4))                 # Replicate along 4th dimension\n",
    ")\n",
    "print(\"features[1] shape after tiling:\", features[1].shape)\n",
    "\n",
    "# Equivalent of MATLAB code for features[2]\n",
    "features[2] = np.single(\n",
    "    np.tile(features[2], (1, 1, 1, 4))                 # Replicate along 4th dimension\n",
    ")\n",
    "print(\"features[2] shape after tiling:\", features[2].shape)\n",
    "\n",
    "# Verify data types\n",
    "for i, feature in enumerate(features):\n",
    "    print(f\"features[{i}] dtype:\", feature.dtype)"
   ]
  }
 ],
 "metadata": {
  "kernelspec": {
   "display_name": ".venv",
   "language": "python",
   "name": "python3"
  },
  "language_info": {
   "codemirror_mode": {
    "name": "ipython",
    "version": 3
   },
   "file_extension": ".py",
   "mimetype": "text/x-python",
   "name": "python",
   "nbconvert_exporter": "python",
   "pygments_lexer": "ipython3",
   "version": "3.11.0"
  }
 },
 "nbformat": 4,
 "nbformat_minor": 2
}
