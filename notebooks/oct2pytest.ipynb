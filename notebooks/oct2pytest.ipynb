{
 "cells": [
  {
   "cell_type": "code",
   "execution_count": 1,
   "metadata": {},
   "outputs": [
    {
     "name": "stdout",
     "output_type": "stream",
     "text": [
      "-1.0\n",
      "-1.0\n",
      "-1.0\n",
      "-1\n"
     ]
    }
   ],
   "source": [
    "import os\n",
    "import logging\n",
    "\n",
    "# Octave engine\n",
    "from oct2py import Oct2Py, get_log\n",
    "engine1 = Oct2Py(logger=get_log())\n",
    "engine1.logger = get_log(\"new_log\")\n",
    "engine1.logger.setLevel(logging.WARNING)\n",
    "\n",
    "# Matlab engine\n",
    "import matlab.engine\n",
    "engine2 = matlab.engine.start_matlab()\n",
    "\n",
    "# Test\n",
    "res1 = engine1.eval(\"test_matlab_func_args(3, 4)\")\n",
    "res2 = engine1.test_matlab_func_args(3, 4)\n",
    "\n",
    "res3 = engine2.eval(\"test_matlab_func_args(3, 4)\")\n",
    "res4 = engine2.test_matlab_func_args(3, 4)\n",
    "\n",
    "print(res1)\n",
    "print(res2)\n",
    "print(res3)\n",
    "print(res4)"
   ]
  },
  {
   "cell_type": "code",
   "execution_count": 7,
   "metadata": {},
   "outputs": [
    {
     "name": "stdout",
     "output_type": "stream",
     "text": [
      "eeglab: options file is ~/eeg_options.m\n",
      "Retrieving plugin versions from server...\n",
      "Retrieving download statistics...\n",
      "Issue with retrieving statistics for extensions\n",
      "EEGLAB: adding \"Biosig\" v3.8.4 to the path\n",
      "EEGLAB: adding \"EEG-BIDS\" v? (see >> help eegplugin_eegbids)\n",
      "EEGLAB: adding \"ICLabel\" v? (see >> help eegplugin_iclabel)\n",
      "EEGLAB: adding \"clean_rawdata\" v? (see >> help eegplugin_clean_rawdata)\n",
      "EEGLAB: adding \"dipfit\" v? (see >> help eegplugin_dipfit)\n",
      "EEGLAB: adding \"firfilt\" v? (see >> help eegplugin_firfilt)\n",
      "pop_loadset(): loading file /Users/arno/Python/eegprep/data/FlankerTest.set ...\n",
      "\n",
      "EEG = \n",
      "\n",
      "  struct with fields:\n",
      "\n",
      "             setname: ''\n",
      "            filename: 'FlankerTest.set'\n",
      "            filepath: '/Users/arno/Python/eegprep/data'\n",
      "             subject: ''\n",
      "               group: ''\n",
      "           condition: ''\n",
      "             session: []\n",
      "            comments: ''\n",
      "              nbchan: 64\n",
      "              trials: 1\n",
      "                pnts: 75350\n",
      "               srate: 100\n",
      "                xmin: 0\n",
      "                xmax: 753.4900\n",
      "               times: [0 10 20 30 40 50 60 70 80 90 100 110 120 130 140 ... ]\n",
      "                data: [64x75350 single]\n",
      "              icaact: []\n",
      "             icawinv: []\n",
      "           icasphere: []\n",
      "          icaweights: []\n",
      "         icachansind: []\n",
      "            chanlocs: [1x64 struct]\n",
      "          urchanlocs: []\n",
      "            chaninfo: [1x1 struct]\n",
      "                 ref: 'common'\n",
      "               event: [1x809 struct]\n",
      "             urevent: [1x809 struct]\n",
      "    eventdescription: {''  ''  ''  ''  ''}\n",
      "               epoch: []\n",
      "    epochdescription: {}\n",
      "              reject: [1x1 struct]\n",
      "               stats: [1x1 struct]\n",
      "            specdata: []\n",
      "          specicaact: []\n",
      "          splinefile: ''\n",
      "       icasplinefile: ''\n",
      "              dipfit: []\n",
      "             history: '...'\n",
      "               saved: 'justloaded'\n",
      "                 etc: [1x1 struct]\n",
      "             datfile: []\n",
      "            tracking: [1x1 struct]\n",
      "                 run: []\n",
      "                 roi: []\n",
      "\n",
      "eeg_insertbound(): 1 boundary (break) events added.\n",
      "eeg_insertbound(): boundary events inserted and 1 events removed.\n",
      "eeg_checkset note: events' order (re)sorted by time\n",
      "eeg_checkset note: events' order (re)sorted by time\n",
      "\n",
      "EEG = \n",
      "\n",
      "  struct with fields:\n",
      "\n",
      "             setname: ''\n",
      "            filename: 'FlankerTest.set'\n",
      "            filepath: '/Users/arno/Python/eegprep/data'\n",
      "             subject: ''\n",
      "               group: ''\n",
      "           condition: ''\n",
      "             session: []\n",
      "            comments: ''\n",
      "              nbchan: 64\n",
      "              trials: 1\n",
      "                pnts: 67816\n",
      "               srate: 100\n",
      "                xmin: 0\n",
      "                xmax: 678.1510\n",
      "               times: [0 10.0000 20.0000 30.0000 40.0001 50.0001 60.0001 ... ]\n",
      "                data: [64x67816 single]\n",
      "              icaact: []\n",
      "             icawinv: []\n",
      "           icasphere: []\n",
      "          icaweights: []\n",
      "         icachansind: []\n",
      "            chanlocs: [1x64 struct]\n",
      "          urchanlocs: []\n",
      "            chaninfo: [1x1 struct]\n",
      "                 ref: 'common'\n",
      "               event: [1x731 struct]\n",
      "             urevent: [1x809 struct]\n",
      "    eventdescription: {''  ''  ''  ''  ''}\n",
      "               epoch: []\n",
      "    epochdescription: {}\n",
      "              reject: [1x1 struct]\n",
      "               stats: [1x1 struct]\n",
      "            specdata: []\n",
      "          specicaact: []\n",
      "          splinefile: ''\n",
      "       icasplinefile: ''\n",
      "              dipfit: []\n",
      "             history: '...'\n",
      "               saved: 'no'\n",
      "                 etc: [1x1 struct]\n",
      "             datfile: []\n",
      "            tracking: [1x1 struct]\n",
      "                 run: []\n",
      "                 roi: []\n",
      "\n"
     ]
    },
    {
     "data": {
      "text/plain": [
       "67816.0"
      ]
     },
     "execution_count": 7,
     "metadata": {},
     "output_type": "execute_result"
    }
   ],
   "source": [
    "engine2.eval(\"addpath('/Users/arno/Python/eegprep/src/eegprep/eeglab')\")\n",
    "engine2.eval(\"eeglab nogui;\", nargout=0)\n",
    "engine2.eval(\"EEG = pop_loadset('/Users/arno/Python/eegprep/data/FlankerTest.set')\", nargout=0)\n",
    "engine2.eval(\"EEG = pop_select(EEG, 'rmtime', [75.35900000000001 150.68800000000002])\", nargout=0)\n",
    "res = engine2.eval('EEG.pnts;')\n",
    "res\n"
   ]
  },
  {
   "cell_type": "code",
   "execution_count": null,
   "metadata": {},
   "outputs": [
    {
     "name": "stdout",
     "output_type": "stream",
     "text": [
      "7.0\n",
      "7.0\n",
      "7.0\n",
      "7.0\n",
      "7\n"
     ]
    }
   ],
   "source": [
    "# passing arrays to matlab functions\n",
    "\n",
    "import numpy as np\n",
    "\n",
    "res1 = engine1.eval(\"test_matlab_func_args2([3 3], [4 4])\")\n",
    "res2 = engine1.test_matlab_func_args2(np.array([3,3]), np.array([4,4])) # note that [3,4] get pass as a cell array\n",
    "res3 = engine1.test_matlab_func_args2([[3,3]], [[4,4]])\n",
    "\n",
    "res4 = engine2.eval(\"test_matlab_func_args2([3 3], [4 4])\")\n",
    "res5 = engine2.test_matlab_func_args2(np.array([3,3]), np.array([4,4]))\n",
    "#res6 = engine2.test_matlab_func_args2([[3,3]], [[4,4]]) # this does not work\n",
    "\n",
    "print(res1)\n",
    "print(res2)\n",
    "print(res3)\n",
    "print(res4)\n",
    "print(res5)\n",
    "#print(res6)\n"
   ]
  },
  {
   "cell_type": "code",
   "execution_count": null,
   "metadata": {},
   "outputs": [
    {
     "name": "stdout",
     "output_type": "stream",
     "text": [
      "[[3. 3.]]\n",
      "<class 'numpy.ndarray'>\n"
     ]
    }
   ],
   "source": [
    "# passing structs to matlab functions and returning numpy arrays\n",
    "res1 = engine1.eval(\"test_matlab_func_args3(struct('value', [3 3]))\")\n",
    "print(res1)\n",
    "print(type(res1))\n",
    "\n",
    "res2 = engine2.eval(\"test_matlab_func_args3(struct('value', [3 3]))\") # this one can print the type of the result\n",
    "print(res2)\n",
    "# show the type of the result\n",
    "print(type(res2))\n",
    "res3 = np.array(res2)\n",
    "print(res3)\n",
    "print(type(res3))\n",
    "\n"
   ]
  },
  {
   "cell_type": "code",
   "execution_count": null,
   "metadata": {},
   "outputs": [
    {
     "name": "stdout",
     "output_type": "stream",
     "text": [
      "[[3. 3.]]\n",
      "[3, 3]\n"
     ]
    },
    {
     "name": "stderr",
     "output_type": "stream",
     "text": [
      "in1 is a struct\n"
     ]
    }
   ],
   "source": [
    "# check passing structs as dictionaries to matlab functions\n",
    "res1 = engine1.test_matlab_func_args3({'value': [3, 3]})\n",
    "print(res1)\n",
    "\n",
    "res2 = engine2.test_matlab_func_args3({'value': [3, 3]}) # this one can print the type of the result\n",
    "print(res2)\n"
   ]
  },
  {
   "cell_type": "code",
   "execution_count": null,
   "metadata": {},
   "outputs": [],
   "source": [
    "import numpy as np\n",
    "from oct2py import Oct2Py\n",
    "\n",
    "oc = Oct2Py()\n",
    "dt = np.dtype([('y', float), ('z', float)])\n",
    "arr = np.array([(1.0, 3.0), (2.0, 4.0)], dtype=dt)  # 2x1 struct array\n",
    "oc.push('x', arr)                                   # x is a struct array in Octave"
   ]
  },
  {
   "cell_type": "code",
   "execution_count": null,
   "metadata": {},
   "outputs": [],
   "source": [
    "from scipy.io import savemat\n",
    "savemat('x.mat', {'x': arr})"
   ]
  },
  {
   "cell_type": "code",
   "execution_count": null,
   "metadata": {},
   "outputs": [],
   "source": [
    "from oct2py import Oct2Py\n",
    "oc = Oct2Py()\n",
    "oc.eval('x = struct(\"y\", {1, 2}, \"z\", {3, 4});')\n",
    "X = oc.pull('x')            # X is oct2py.StructArray (np.recarray subclass)\n",
    "X.y                          # -> Cell([[1.0, 2.0]])\n",
    "X[0, 1].z                    # -> 4.0 (numpy scalar)"
   ]
  },
  {
   "cell_type": "code",
   "execution_count": 48,
   "metadata": {},
   "outputs": [
    {
     "name": "stderr",
     "output_type": "stream",
     "text": [
      "in1 is a cell\n",
      "Index exceeds the number of array elements. Index must not exceed 1.\n",
      "\n",
      "Error in test_matlab_func_args4 (line 3)\n",
      "    out1 = in1(2).value;\n",
      "\n"
     ]
    },
    {
     "ename": "MatlabExecutionError",
     "evalue": "\n  File /Users/arno/Python/eegprep/notebooks/test_matlab_func_args4.m, line 3, in test_matlab_func_args4\nIndex exceeds the number of array elements. Index must not exceed 1.\n",
     "output_type": "error",
     "traceback": [
      "\u001b[0;31m---------------------------------------------------------------------------\u001b[0m",
      "\u001b[0;31mMatlabExecutionError\u001b[0m                      Traceback (most recent call last)",
      "Cell \u001b[0;32mIn[48], line 5\u001b[0m\n\u001b[1;32m      1\u001b[0m \u001b[38;5;66;03m# check passing structs as dictionaries to matlab functions\u001b[39;00m\n\u001b[1;32m      2\u001b[0m \u001b[38;5;66;03m#res1 = engine1.test_matlab_func_args4([{'value': [3, 3]}, {'value': [4, 4]}])\u001b[39;00m\n\u001b[1;32m      3\u001b[0m \u001b[38;5;66;03m#print(res1)\u001b[39;00m\n\u001b[0;32m----> 5\u001b[0m res2 \u001b[38;5;241m=\u001b[39m \u001b[43mengine2\u001b[49m\u001b[38;5;241;43m.\u001b[39;49m\u001b[43mtest_matlab_func_args4\u001b[49m\u001b[43m(\u001b[49m\u001b[43m[\u001b[49m\u001b[43m[\u001b[49m\u001b[43m{\u001b[49m\u001b[38;5;124;43m'\u001b[39;49m\u001b[38;5;124;43mvalue\u001b[39;49m\u001b[38;5;124;43m'\u001b[39;49m\u001b[43m:\u001b[49m\u001b[43m \u001b[49m\u001b[43m[\u001b[49m\u001b[38;5;241;43m3\u001b[39;49m\u001b[43m,\u001b[49m\u001b[43m \u001b[49m\u001b[38;5;241;43m3\u001b[39;49m\u001b[43m]\u001b[49m\u001b[43m}\u001b[49m\u001b[43m,\u001b[49m\u001b[43m \u001b[49m\u001b[43m{\u001b[49m\u001b[38;5;124;43m'\u001b[39;49m\u001b[38;5;124;43mvalue\u001b[39;49m\u001b[38;5;124;43m'\u001b[39;49m\u001b[43m:\u001b[49m\u001b[43m \u001b[49m\u001b[43m[\u001b[49m\u001b[38;5;241;43m4\u001b[39;49m\u001b[43m,\u001b[49m\u001b[43m \u001b[49m\u001b[38;5;241;43m4\u001b[39;49m\u001b[43m]\u001b[49m\u001b[43m}\u001b[49m\u001b[43m]\u001b[49m\u001b[43m]\u001b[49m\u001b[43m)\u001b[49m\n\u001b[1;32m      6\u001b[0m \u001b[38;5;28mprint\u001b[39m(res2)\n",
      "File \u001b[0;32m~/Python/eegprep/.venv/lib/python3.10/site-packages/matlab/engine/matlabengine.py:71\u001b[0m, in \u001b[0;36mMatlabFunc.__call__\u001b[0;34m(self, *args, **kwargs)\u001b[0m\n\u001b[1;32m     68\u001b[0m     \u001b[38;5;28;01mreturn\u001b[39;00m FutureResult(\u001b[38;5;28mself\u001b[39m\u001b[38;5;241m.\u001b[39m_engine(), future, nargs, _stdout, _stderr, feval\u001b[38;5;241m=\u001b[39m\u001b[38;5;28;01mTrue\u001b[39;00m)\n\u001b[1;32m     69\u001b[0m \u001b[38;5;28;01melse\u001b[39;00m:\n\u001b[1;32m     70\u001b[0m     \u001b[38;5;28;01mreturn\u001b[39;00m \u001b[43mFutureResult\u001b[49m\u001b[43m(\u001b[49m\u001b[38;5;28;43mself\u001b[39;49m\u001b[38;5;241;43m.\u001b[39;49m\u001b[43m_engine\u001b[49m\u001b[43m(\u001b[49m\u001b[43m)\u001b[49m\u001b[43m,\u001b[49m\u001b[43m \u001b[49m\u001b[43mfuture\u001b[49m\u001b[43m,\u001b[49m\u001b[43m \u001b[49m\u001b[43mnargs\u001b[49m\u001b[43m,\u001b[49m\u001b[43m \u001b[49m\u001b[43m_stdout\u001b[49m\u001b[43m,\u001b[49m\n\u001b[0;32m---> 71\u001b[0m \u001b[43m                        \u001b[49m\u001b[43m_stderr\u001b[49m\u001b[43m,\u001b[49m\u001b[43m \u001b[49m\u001b[43mfeval\u001b[49m\u001b[38;5;241;43m=\u001b[39;49m\u001b[38;5;28;43;01mTrue\u001b[39;49;00m\u001b[43m)\u001b[49m\u001b[38;5;241;43m.\u001b[39;49m\u001b[43mresult\u001b[49m\u001b[43m(\u001b[49m\u001b[43m)\u001b[49m\n",
      "File \u001b[0;32m~/Python/eegprep/.venv/lib/python3.10/site-packages/matlab/engine/futureresult.py:67\u001b[0m, in \u001b[0;36mFutureResult.result\u001b[0;34m(self, timeout)\u001b[0m\n\u001b[1;32m     64\u001b[0m     \u001b[38;5;28;01mif\u001b[39;00m timeout \u001b[38;5;241m<\u001b[39m \u001b[38;5;241m0\u001b[39m:\n\u001b[1;32m     65\u001b[0m         \u001b[38;5;28;01mraise\u001b[39;00m \u001b[38;5;167;01mTypeError\u001b[39;00m(pythonengine\u001b[38;5;241m.\u001b[39mgetMessage(\u001b[38;5;124m'\u001b[39m\u001b[38;5;124mTimeoutCannotBeNegative\u001b[39m\u001b[38;5;124m'\u001b[39m))\n\u001b[0;32m---> 67\u001b[0m \u001b[38;5;28;01mreturn\u001b[39;00m \u001b[38;5;28;43mself\u001b[39;49m\u001b[38;5;241;43m.\u001b[39;49m\u001b[43m__future\u001b[49m\u001b[38;5;241;43m.\u001b[39;49m\u001b[43mresult\u001b[49m\u001b[43m(\u001b[49m\u001b[43mtimeout\u001b[49m\u001b[43m)\u001b[49m\n",
      "File \u001b[0;32m~/Python/eegprep/.venv/lib/python3.10/site-packages/matlab/engine/fevalfuture.py:82\u001b[0m, in \u001b[0;36mFevalFuture.result\u001b[0;34m(self, timeout)\u001b[0m\n\u001b[1;32m     79\u001b[0m \u001b[38;5;28;01mif\u001b[39;00m \u001b[38;5;129;01mnot\u001b[39;00m result_ready:\n\u001b[1;32m     80\u001b[0m     \u001b[38;5;28;01mraise\u001b[39;00m \u001b[38;5;167;01mTimeoutError\u001b[39;00m(pythonengine\u001b[38;5;241m.\u001b[39mgetMessage(\u001b[38;5;124m'\u001b[39m\u001b[38;5;124mMatlabFunctionTimeout\u001b[39m\u001b[38;5;124m'\u001b[39m))\n\u001b[0;32m---> 82\u001b[0m \u001b[38;5;28mself\u001b[39m\u001b[38;5;241m.\u001b[39m_result \u001b[38;5;241m=\u001b[39m \u001b[43mpythonengine\u001b[49m\u001b[38;5;241;43m.\u001b[39;49m\u001b[43mgetFEvalResult\u001b[49m\u001b[43m(\u001b[49m\u001b[38;5;28;43mself\u001b[39;49m\u001b[38;5;241;43m.\u001b[39;49m\u001b[43m_future\u001b[49m\u001b[43m,\u001b[49m\u001b[38;5;28;43mself\u001b[39;49m\u001b[38;5;241;43m.\u001b[39;49m\u001b[43m_nargout\u001b[49m\u001b[43m,\u001b[49m\u001b[43m \u001b[49m\u001b[38;5;28;43;01mNone\u001b[39;49;00m\u001b[43m,\u001b[49m\u001b[43m \u001b[49m\u001b[43mout\u001b[49m\u001b[38;5;241;43m=\u001b[39;49m\u001b[38;5;28;43mself\u001b[39;49m\u001b[38;5;241;43m.\u001b[39;49m\u001b[43m_out\u001b[49m\u001b[43m,\u001b[49m\u001b[43m \u001b[49m\u001b[43merr\u001b[49m\u001b[38;5;241;43m=\u001b[39;49m\u001b[38;5;28;43mself\u001b[39;49m\u001b[38;5;241;43m.\u001b[39;49m\u001b[43m_err\u001b[49m\u001b[43m)\u001b[49m\n\u001b[1;32m     83\u001b[0m \u001b[38;5;28mself\u001b[39m\u001b[38;5;241m.\u001b[39m_retrieved \u001b[38;5;241m=\u001b[39m \u001b[38;5;28;01mTrue\u001b[39;00m\n\u001b[1;32m     84\u001b[0m \u001b[38;5;28;01mreturn\u001b[39;00m \u001b[38;5;28mself\u001b[39m\u001b[38;5;241m.\u001b[39m_result\n",
      "\u001b[0;31mMatlabExecutionError\u001b[0m: \n  File /Users/arno/Python/eegprep/notebooks/test_matlab_func_args4.m, line 3, in test_matlab_func_args4\nIndex exceeds the number of array elements. Index must not exceed 1.\n"
     ]
    }
   ],
   "source": [
    "# check passing structs as dictionaries to matlab functions\n",
    "#res1 = engine1.test_matlab_func_args4([{'value': [3, 3]}, {'value': [4, 4]}])\n",
    "#print(res1)\n",
    "\n",
    "res2 = engine2.test_matlab_func_args4([[{'value': [3, 3]}, {'value': [4, 4]}]])\n",
    "print(res2)"
   ]
  },
  {
   "cell_type": "code",
   "execution_count": 45,
   "metadata": {},
   "outputs": [
    {
     "ename": "TypeError",
     "evalue": "array() argument 1 must be a unicode character, not list",
     "output_type": "error",
     "traceback": [
      "\u001b[0;31m---------------------------------------------------------------------------\u001b[0m",
      "\u001b[0;31mTypeError\u001b[0m                                 Traceback (most recent call last)",
      "Cell \u001b[0;32mIn[45], line 2\u001b[0m\n\u001b[1;32m      1\u001b[0m \u001b[38;5;28;01mimport\u001b[39;00m\u001b[38;5;250m \u001b[39m\u001b[38;5;21;01marray\u001b[39;00m\n\u001b[0;32m----> 2\u001b[0m res \u001b[38;5;241m=\u001b[39m \u001b[43marray\u001b[49m\u001b[38;5;241;43m.\u001b[39;49m\u001b[43marray\u001b[49m\u001b[43m(\u001b[49m\u001b[43m[\u001b[49m\u001b[43m{\u001b[49m\u001b[38;5;124;43m'\u001b[39;49m\u001b[38;5;124;43mvalue\u001b[39;49m\u001b[38;5;124;43m'\u001b[39;49m\u001b[43m:\u001b[49m\u001b[43m \u001b[49m\u001b[43m[\u001b[49m\u001b[38;5;241;43m3\u001b[39;49m\u001b[43m,\u001b[49m\u001b[43m \u001b[49m\u001b[38;5;241;43m3\u001b[39;49m\u001b[43m]\u001b[49m\u001b[43m}\u001b[49m\u001b[43m,\u001b[49m\u001b[43m \u001b[49m\u001b[43m{\u001b[49m\u001b[38;5;124;43m'\u001b[39;49m\u001b[38;5;124;43mvalue\u001b[39;49m\u001b[38;5;124;43m'\u001b[39;49m\u001b[43m:\u001b[49m\u001b[43m \u001b[49m\u001b[43m[\u001b[49m\u001b[38;5;241;43m4\u001b[39;49m\u001b[43m,\u001b[49m\u001b[43m \u001b[49m\u001b[38;5;241;43m4\u001b[39;49m\u001b[43m]\u001b[49m\u001b[43m}\u001b[49m\u001b[43m]\u001b[49m\u001b[43m)\u001b[49m\n\u001b[1;32m      3\u001b[0m res[\u001b[38;5;241m0\u001b[39m]\n",
      "\u001b[0;31mTypeError\u001b[0m: array() argument 1 must be a unicode character, not list"
     ]
    }
   ],
   "source": [
    "import array\n",
    "res = array.array([{'value': [3, 3]}, {'value': [4, 4]}])\n",
    "res[0]"
   ]
  },
  {
   "cell_type": "code",
   "execution_count": 50,
   "metadata": {},
   "outputs": [
    {
     "name": "stdout",
     "output_type": "stream",
     "text": [
      "  Name        Size            Bytes  Class    Attributes\n",
      "\n",
      "  people      1x2              1264  cell               \n",
      "\n"
     ]
    },
    {
     "name": "stderr",
     "output_type": "stream",
     "text": [
      "Dot indexing is not supported for variables of this type.\n",
      "\n"
     ]
    },
    {
     "ename": "MatlabExecutionError",
     "evalue": "Dot indexing is not supported for variables of this type.\n",
     "output_type": "error",
     "traceback": [
      "\u001b[0;31m---------------------------------------------------------------------------\u001b[0m",
      "\u001b[0;31mMatlabExecutionError\u001b[0m                      Traceback (most recent call last)",
      "Cell \u001b[0;32mIn[50], line 12\u001b[0m\n\u001b[1;32m     10\u001b[0m \u001b[38;5;66;03m# Inspect and use in MATLAB\u001b[39;00m\n\u001b[1;32m     11\u001b[0m engine2\u001b[38;5;241m.\u001b[39meval(\u001b[38;5;124m\"\u001b[39m\u001b[38;5;124mwhos(\u001b[39m\u001b[38;5;124m'\u001b[39m\u001b[38;5;124mpeople\u001b[39m\u001b[38;5;124m'\u001b[39m\u001b[38;5;124m)\u001b[39m\u001b[38;5;124m\"\u001b[39m, nargout\u001b[38;5;241m=\u001b[39m\u001b[38;5;241m0\u001b[39m)\n\u001b[0;32m---> 12\u001b[0m \u001b[43mengine2\u001b[49m\u001b[38;5;241;43m.\u001b[39;49m\u001b[43meval\u001b[49m\u001b[43m(\u001b[49m\u001b[38;5;124;43m\"\u001b[39;49m\u001b[38;5;124;43mdisp(people(1).name)\u001b[39;49m\u001b[38;5;124;43m\"\u001b[39;49m\u001b[43m,\u001b[49m\u001b[43m \u001b[49m\u001b[43mnargout\u001b[49m\u001b[38;5;241;43m=\u001b[39;49m\u001b[38;5;241;43m0\u001b[39;49m\u001b[43m)\u001b[49m\n\u001b[1;32m     14\u001b[0m \u001b[38;5;66;03m# Use from MATLAB code (example: compute mean height)\u001b[39;00m\n\u001b[1;32m     15\u001b[0m mean_h \u001b[38;5;241m=\u001b[39m engine2\u001b[38;5;241m.\u001b[39meval(\u001b[38;5;124m\"\u001b[39m\u001b[38;5;124mmean([people.height])\u001b[39m\u001b[38;5;124m\"\u001b[39m)\n",
      "File \u001b[0;32m~/Python/eegprep/.venv/lib/python3.10/site-packages/matlab/engine/matlabengine.py:71\u001b[0m, in \u001b[0;36mMatlabFunc.__call__\u001b[0;34m(self, *args, **kwargs)\u001b[0m\n\u001b[1;32m     68\u001b[0m     \u001b[38;5;28;01mreturn\u001b[39;00m FutureResult(\u001b[38;5;28mself\u001b[39m\u001b[38;5;241m.\u001b[39m_engine(), future, nargs, _stdout, _stderr, feval\u001b[38;5;241m=\u001b[39m\u001b[38;5;28;01mTrue\u001b[39;00m)\n\u001b[1;32m     69\u001b[0m \u001b[38;5;28;01melse\u001b[39;00m:\n\u001b[1;32m     70\u001b[0m     \u001b[38;5;28;01mreturn\u001b[39;00m \u001b[43mFutureResult\u001b[49m\u001b[43m(\u001b[49m\u001b[38;5;28;43mself\u001b[39;49m\u001b[38;5;241;43m.\u001b[39;49m\u001b[43m_engine\u001b[49m\u001b[43m(\u001b[49m\u001b[43m)\u001b[49m\u001b[43m,\u001b[49m\u001b[43m \u001b[49m\u001b[43mfuture\u001b[49m\u001b[43m,\u001b[49m\u001b[43m \u001b[49m\u001b[43mnargs\u001b[49m\u001b[43m,\u001b[49m\u001b[43m \u001b[49m\u001b[43m_stdout\u001b[49m\u001b[43m,\u001b[49m\n\u001b[0;32m---> 71\u001b[0m \u001b[43m                        \u001b[49m\u001b[43m_stderr\u001b[49m\u001b[43m,\u001b[49m\u001b[43m \u001b[49m\u001b[43mfeval\u001b[49m\u001b[38;5;241;43m=\u001b[39;49m\u001b[38;5;28;43;01mTrue\u001b[39;49;00m\u001b[43m)\u001b[49m\u001b[38;5;241;43m.\u001b[39;49m\u001b[43mresult\u001b[49m\u001b[43m(\u001b[49m\u001b[43m)\u001b[49m\n",
      "File \u001b[0;32m~/Python/eegprep/.venv/lib/python3.10/site-packages/matlab/engine/futureresult.py:67\u001b[0m, in \u001b[0;36mFutureResult.result\u001b[0;34m(self, timeout)\u001b[0m\n\u001b[1;32m     64\u001b[0m     \u001b[38;5;28;01mif\u001b[39;00m timeout \u001b[38;5;241m<\u001b[39m \u001b[38;5;241m0\u001b[39m:\n\u001b[1;32m     65\u001b[0m         \u001b[38;5;28;01mraise\u001b[39;00m \u001b[38;5;167;01mTypeError\u001b[39;00m(pythonengine\u001b[38;5;241m.\u001b[39mgetMessage(\u001b[38;5;124m'\u001b[39m\u001b[38;5;124mTimeoutCannotBeNegative\u001b[39m\u001b[38;5;124m'\u001b[39m))\n\u001b[0;32m---> 67\u001b[0m \u001b[38;5;28;01mreturn\u001b[39;00m \u001b[38;5;28;43mself\u001b[39;49m\u001b[38;5;241;43m.\u001b[39;49m\u001b[43m__future\u001b[49m\u001b[38;5;241;43m.\u001b[39;49m\u001b[43mresult\u001b[49m\u001b[43m(\u001b[49m\u001b[43mtimeout\u001b[49m\u001b[43m)\u001b[49m\n",
      "File \u001b[0;32m~/Python/eegprep/.venv/lib/python3.10/site-packages/matlab/engine/fevalfuture.py:82\u001b[0m, in \u001b[0;36mFevalFuture.result\u001b[0;34m(self, timeout)\u001b[0m\n\u001b[1;32m     79\u001b[0m \u001b[38;5;28;01mif\u001b[39;00m \u001b[38;5;129;01mnot\u001b[39;00m result_ready:\n\u001b[1;32m     80\u001b[0m     \u001b[38;5;28;01mraise\u001b[39;00m \u001b[38;5;167;01mTimeoutError\u001b[39;00m(pythonengine\u001b[38;5;241m.\u001b[39mgetMessage(\u001b[38;5;124m'\u001b[39m\u001b[38;5;124mMatlabFunctionTimeout\u001b[39m\u001b[38;5;124m'\u001b[39m))\n\u001b[0;32m---> 82\u001b[0m \u001b[38;5;28mself\u001b[39m\u001b[38;5;241m.\u001b[39m_result \u001b[38;5;241m=\u001b[39m \u001b[43mpythonengine\u001b[49m\u001b[38;5;241;43m.\u001b[39;49m\u001b[43mgetFEvalResult\u001b[49m\u001b[43m(\u001b[49m\u001b[38;5;28;43mself\u001b[39;49m\u001b[38;5;241;43m.\u001b[39;49m\u001b[43m_future\u001b[49m\u001b[43m,\u001b[49m\u001b[38;5;28;43mself\u001b[39;49m\u001b[38;5;241;43m.\u001b[39;49m\u001b[43m_nargout\u001b[49m\u001b[43m,\u001b[49m\u001b[43m \u001b[49m\u001b[38;5;28;43;01mNone\u001b[39;49;00m\u001b[43m,\u001b[49m\u001b[43m \u001b[49m\u001b[43mout\u001b[49m\u001b[38;5;241;43m=\u001b[39;49m\u001b[38;5;28;43mself\u001b[39;49m\u001b[38;5;241;43m.\u001b[39;49m\u001b[43m_out\u001b[49m\u001b[43m,\u001b[49m\u001b[43m \u001b[49m\u001b[43merr\u001b[49m\u001b[38;5;241;43m=\u001b[39;49m\u001b[38;5;28;43mself\u001b[39;49m\u001b[38;5;241;43m.\u001b[39;49m\u001b[43m_err\u001b[49m\u001b[43m)\u001b[49m\n\u001b[1;32m     83\u001b[0m \u001b[38;5;28mself\u001b[39m\u001b[38;5;241m.\u001b[39m_retrieved \u001b[38;5;241m=\u001b[39m \u001b[38;5;28;01mTrue\u001b[39;00m\n\u001b[1;32m     84\u001b[0m \u001b[38;5;28;01mreturn\u001b[39;00m \u001b[38;5;28mself\u001b[39m\u001b[38;5;241m.\u001b[39m_result\n",
      "\u001b[0;31mMatlabExecutionError\u001b[0m: Dot indexing is not supported for variables of this type.\n"
     ]
    }
   ],
   "source": [
    "# Python \"structure array\"\n",
    "people = [\n",
    "    {\"name\": \"Alice\", \"age\": 30, \"height\": 1.67},\n",
    "    {\"name\": \"Bob\",   \"age\": 25, \"height\": 1.80}\n",
    "]\n",
    "\n",
    "# Pass to MATLAB\n",
    "engine2.workspace['people'] = people\n",
    "\n",
    "# Inspect and use in MATLAB\n",
    "engine2.eval(\"whos('people')\", nargout=0)\n",
    "engine2.eval(\"disp(people(1).name)\", nargout=0)\n",
    "\n",
    "# Use from MATLAB code (example: compute mean height)\n",
    "mean_h = engine2.eval(\"mean([people.height])\")\n",
    "print(mean_h)  # 1.735"
   ]
  },
  {
   "cell_type": "code",
   "execution_count": 53,
   "metadata": {},
   "outputs": [
    {
     "ename": "TypeError",
     "evalue": "'workspace' object does not support item assignment",
     "output_type": "error",
     "traceback": [
      "\u001b[0;31m---------------------------------------------------------------------------\u001b[0m",
      "\u001b[0;31mTypeError\u001b[0m                                 Traceback (most recent call last)",
      "Cell \u001b[0;32mIn[53], line 6\u001b[0m\n\u001b[1;32m      1\u001b[0m \u001b[38;5;66;03m# Option B: construct a struct array directly via MATLAB's struct\u001b[39;00m\n\u001b[1;32m      2\u001b[0m people \u001b[38;5;241m=\u001b[39m engine1\u001b[38;5;241m.\u001b[39mstruct(\n\u001b[1;32m      3\u001b[0m     \u001b[38;5;124m'\u001b[39m\u001b[38;5;124mname\u001b[39m\u001b[38;5;124m'\u001b[39m, [\u001b[38;5;124m'\u001b[39m\u001b[38;5;124mAlice\u001b[39m\u001b[38;5;124m'\u001b[39m,\u001b[38;5;124m'\u001b[39m\u001b[38;5;124mBob\u001b[39m\u001b[38;5;124m'\u001b[39m],        \u001b[38;5;66;03m# Python list -> MATLAB cell array of char vectors\u001b[39;00m\n\u001b[1;32m      4\u001b[0m     \u001b[38;5;124m'\u001b[39m\u001b[38;5;124mage\u001b[39m\u001b[38;5;124m'\u001b[39m,  [\u001b[38;5;241m30.0\u001b[39m, \u001b[38;5;241m25.0\u001b[39m]            \u001b[38;5;66;03m# Python list -> MATLAB cell array of doubles\u001b[39;00m\n\u001b[1;32m      5\u001b[0m )\n\u001b[0;32m----> 6\u001b[0m \u001b[43mengine1\u001b[49m\u001b[38;5;241;43m.\u001b[39;49m\u001b[43mworkspace\u001b[49m\u001b[43m[\u001b[49m\u001b[38;5;124;43m'\u001b[39;49m\u001b[38;5;124;43mpeople\u001b[39;49m\u001b[38;5;124;43m'\u001b[39;49m\u001b[43m]\u001b[49m \u001b[38;5;241m=\u001b[39m people\n\u001b[1;32m      8\u001b[0m engine1\u001b[38;5;241m.\u001b[39meval(\u001b[38;5;124m\"\u001b[39m\u001b[38;5;124mdisp(people(1).name)\u001b[39m\u001b[38;5;124m\"\u001b[39m, nargout\u001b[38;5;241m=\u001b[39m\u001b[38;5;241m0\u001b[39m)\n",
      "\u001b[0;31mTypeError\u001b[0m: 'workspace' object does not support item assignment"
     ]
    }
   ],
   "source": [
    "\n",
    "# Option B: construct a struct array directly via MATLAB's struct\n",
    "people = engine1.struct(\n",
    "    'name', ['Alice','Bob'],        # Python list -> MATLAB cell array of char vectors\n",
    "    'age',  [30.0, 25.0]            # Python list -> MATLAB cell array of doubles\n",
    ")\n",
    "engine1.workspace['people'] = people\n",
    "\n",
    "engine1.eval(\"disp(people(1).name)\", nargout=0)"
   ]
  }
 ],
 "metadata": {
  "kernelspec": {
   "display_name": ".venv",
   "language": "python",
   "name": "python3"
  },
  "language_info": {
   "codemirror_mode": {
    "name": "ipython",
    "version": 3
   },
   "file_extension": ".py",
   "mimetype": "text/x-python",
   "name": "python",
   "nbconvert_exporter": "python",
   "pygments_lexer": "ipython3",
   "version": "3.10.18"
  }
 },
 "nbformat": 4,
 "nbformat_minor": 2
}
