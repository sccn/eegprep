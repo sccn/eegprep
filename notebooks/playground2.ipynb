{
 "cells": [
  {
   "cell_type": "code",
   "execution_count": 5,
   "metadata": {},
   "outputs": [],
   "source": [
    "# No code yet\n",
    "import sys\n",
    "import os\n",
    "import json\n",
    "sys.path.insert(0, '/Users/arno/Python/eegprep/src/')\n",
    "from eegprep import pop_loadset\n",
    "\n",
    "EEG = pop_loadset('/Users/arno/Python/eegprep/data/eeglab_data_with_ica_tmp.set')"
   ]
  },
  {
   "cell_type": "code",
   "execution_count": 10,
   "metadata": {},
   "outputs": [
    {
     "data": {
      "text/plain": [
       "{'icaweights_beforerms': array([[-5.27533072e-01, -1.53281447e-01,  5.15015962e-01, ...,\n",
       "         -1.59491803e-03, -2.08392469e-01, -4.85517114e-02],\n",
       "        [ 2.77028976e-01,  4.78563074e-01, -6.72404123e-02, ...,\n",
       "         -5.78600526e-02,  3.11947773e-01,  1.41227913e-01],\n",
       "        [ 1.77535631e+00, -1.22410645e+00,  1.02207003e-01, ...,\n",
       "          9.70657949e-03, -7.88715272e-03,  2.80649550e-03],\n",
       "        ...,\n",
       "        [-2.35244777e-02, -2.16573889e-02, -3.61771284e-03, ...,\n",
       "         -3.21501763e-01, -6.55550588e-02,  1.90901198e-01],\n",
       "        [ 3.61221807e-03, -5.21832755e-03, -2.13322248e-02, ...,\n",
       "          6.26660956e-03, -8.16381461e-03, -2.87410660e-02],\n",
       "        [-4.09168046e-03,  1.71616375e-03,  1.25604442e-02, ...,\n",
       "         -4.14150396e-02,  7.31816283e-02,  5.93888587e-02]]),\n",
       " 'icasphere_beforerms': array([[ 1.65889090e-01,  4.02112290e-02, -7.76280449e-02, ...,\n",
       "         -2.95496435e-03, -1.01735741e-02,  7.52783997e-03],\n",
       "        [ 4.02112290e-02,  1.69417497e-01, -8.70873041e-03, ...,\n",
       "         -9.04956853e-03, -1.42676613e-02,  7.51120668e-03],\n",
       "        [-7.76280449e-02, -8.70873041e-03,  6.81588629e-01, ...,\n",
       "          1.78502764e-04, -6.78822724e-03, -1.22730373e-02],\n",
       "        ...,\n",
       "        [-2.95496435e-03, -9.04956853e-03,  1.78502764e-04, ...,\n",
       "          1.23764712e+00, -6.41654541e-01,  4.99540340e-03],\n",
       "        [-1.01735741e-02, -1.42676613e-02, -6.78822724e-03, ...,\n",
       "         -6.41654541e-01,  1.35091336e+00, -6.16329464e-01],\n",
       "        [ 7.52783997e-03,  7.51120668e-03, -1.22730373e-02, ...,\n",
       "          4.99540340e-03, -6.16329464e-01,  1.22622085e+00]]),\n",
       " 'eeglabvers': 'dev'}"
      ]
     },
     "execution_count": 10,
     "metadata": {},
     "output_type": "execute_result"
    }
   ],
   "source": [
    "EEG['etc']"
   ]
  }
 ],
 "metadata": {
  "kernelspec": {
   "display_name": "p311env",
   "language": "python",
   "name": "python3"
  },
  "language_info": {
   "codemirror_mode": {
    "name": "ipython",
    "version": 3
   },
   "file_extension": ".py",
   "mimetype": "text/x-python",
   "name": "python",
   "nbconvert_exporter": "python",
   "pygments_lexer": "ipython3",
   "version": "3.11.0"
  }
 },
 "nbformat": 4,
 "nbformat_minor": 2
}
